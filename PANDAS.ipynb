{
 "cells": [
  {
   "cell_type": "code",
   "execution_count": 2,
   "id": "cbe3fa2f",
   "metadata": {},
   "outputs": [],
   "source": [
    "import numpy as np\n",
    "import pandas as pd"
   ]
  },
  {
   "cell_type": "markdown",
   "id": "d6d790d9",
   "metadata": {},
   "source": [
    "# Series"
   ]
  },
  {
   "cell_type": "code",
   "execution_count": 3,
   "id": "ea76332f",
   "metadata": {},
   "outputs": [],
   "source": [
    " myDict = {\"aley\": 20, \"ali\":40, \"zeyno\": 35}"
   ]
  },
  {
   "cell_type": "code",
   "execution_count": 4,
   "id": "194a17c9",
   "metadata": {},
   "outputs": [
    {
     "data": {
      "text/plain": [
       "aley     20\n",
       "ali      40\n",
       "zeyno    35\n",
       "dtype: int64"
      ]
     },
     "execution_count": 4,
     "metadata": {},
     "output_type": "execute_result"
    }
   ],
   "source": [
    "pd.Series(myDict)"
   ]
  },
  {
   "cell_type": "code",
   "execution_count": 5,
   "id": "df283311",
   "metadata": {},
   "outputs": [
    {
     "data": {
      "text/plain": [
       "pandas.core.series.Series"
      ]
     },
     "execution_count": 5,
     "metadata": {},
     "output_type": "execute_result"
    }
   ],
   "source": [
    "type(pd.Series(myDict))"
   ]
  },
  {
   "cell_type": "code",
   "execution_count": 6,
   "id": "e532dc86",
   "metadata": {},
   "outputs": [],
   "source": [
    "myAge = [50,40,30]\n",
    "myName = [\"aley\",\"ali\",\"zeyno\"]"
   ]
  },
  {
   "cell_type": "code",
   "execution_count": 7,
   "id": "a20c9a78",
   "metadata": {},
   "outputs": [
    {
     "data": {
      "text/plain": [
       "0    50\n",
       "1    40\n",
       "2    30\n",
       "dtype: int64"
      ]
     },
     "execution_count": 7,
     "metadata": {},
     "output_type": "execute_result"
    }
   ],
   "source": [
    "pd.Series(myAge)"
   ]
  },
  {
   "cell_type": "code",
   "execution_count": 8,
   "id": "8a098329",
   "metadata": {},
   "outputs": [
    {
     "data": {
      "text/plain": [
       "aley     50\n",
       "ali      40\n",
       "zeyno    30\n",
       "dtype: int64"
      ]
     },
     "execution_count": 8,
     "metadata": {},
     "output_type": "execute_result"
    }
   ],
   "source": [
    "pd.Series(myAge,myName)"
   ]
  },
  {
   "cell_type": "code",
   "execution_count": 9,
   "id": "f231fd46",
   "metadata": {},
   "outputs": [
    {
     "data": {
      "text/plain": [
       "aley     50\n",
       "ali      40\n",
       "zeyno    30\n",
       "dtype: int64"
      ]
     },
     "execution_count": 9,
     "metadata": {},
     "output_type": "execute_result"
    }
   ],
   "source": [
    "pd.Series(data = myAge, index= myName)"
   ]
  },
  {
   "cell_type": "code",
   "execution_count": 10,
   "id": "64d14db1",
   "metadata": {},
   "outputs": [],
   "source": [
    "numpyArray = np.array([50,40,30])"
   ]
  },
  {
   "cell_type": "code",
   "execution_count": 11,
   "id": "eb49ffd1",
   "metadata": {},
   "outputs": [
    {
     "data": {
      "text/plain": [
       "array([50, 40, 30])"
      ]
     },
     "execution_count": 11,
     "metadata": {},
     "output_type": "execute_result"
    }
   ],
   "source": [
    "numpyArray"
   ]
  },
  {
   "cell_type": "code",
   "execution_count": 12,
   "id": "95bc9d9a",
   "metadata": {},
   "outputs": [
    {
     "data": {
      "text/plain": [
       "0    50\n",
       "1    40\n",
       "2    30\n",
       "dtype: int32"
      ]
     },
     "execution_count": 12,
     "metadata": {},
     "output_type": "execute_result"
    }
   ],
   "source": [
    "pd.Series(numpyArray)"
   ]
  },
  {
   "cell_type": "code",
   "execution_count": 13,
   "id": "77e98d8a",
   "metadata": {},
   "outputs": [
    {
     "data": {
      "text/plain": [
       "aley     50\n",
       "ali      40\n",
       "zeyno    30\n",
       "dtype: int32"
      ]
     },
     "execution_count": 13,
     "metadata": {},
     "output_type": "execute_result"
    }
   ],
   "source": [
    "pd.Series(numpyArray,myName)"
   ]
  },
  {
   "cell_type": "code",
   "execution_count": 14,
   "id": "99deb45a",
   "metadata": {},
   "outputs": [
    {
     "data": {
      "text/plain": [
       "0     Yigit\n",
       "1     Osman\n",
       "2    Aleyna\n",
       "dtype: object"
      ]
     },
     "execution_count": 14,
     "metadata": {},
     "output_type": "execute_result"
    }
   ],
   "source": [
    "pd.Series([\"Yigit\",\"Osman\",\"Aleyna\"])"
   ]
  },
  {
   "cell_type": "code",
   "execution_count": 15,
   "id": "a21b1151",
   "metadata": {},
   "outputs": [
    {
     "data": {
      "text/plain": [
       "1     Yigit\n",
       "2     Osman\n",
       "3    Aleyna\n",
       "dtype: object"
      ]
     },
     "execution_count": 15,
     "metadata": {},
     "output_type": "execute_result"
    }
   ],
   "source": [
    "pd.Series([\"Yigit\",\"Osman\",\"Aleyna\"],[1,2,3])"
   ]
  },
  {
   "cell_type": "code",
   "execution_count": 16,
   "id": "c0162de0",
   "metadata": {},
   "outputs": [],
   "source": [
    "yarıs1 = pd.Series([10,5,1],[\"Yigit\",\"Osman\",\"Aleyna\"])"
   ]
  },
  {
   "cell_type": "code",
   "execution_count": 17,
   "id": "8196b4c7",
   "metadata": {},
   "outputs": [
    {
     "data": {
      "text/plain": [
       "Yigit     10\n",
       "Osman      5\n",
       "Aleyna     1\n",
       "dtype: int64"
      ]
     },
     "execution_count": 17,
     "metadata": {},
     "output_type": "execute_result"
    }
   ],
   "source": [
    "yarıs1"
   ]
  },
  {
   "cell_type": "code",
   "execution_count": 18,
   "id": "18a5bab1",
   "metadata": {},
   "outputs": [],
   "source": [
    "yarıs2 = pd.Series([20,10,8],[\"Yigit\",\"Osman\",\"Aleyna\"])"
   ]
  },
  {
   "cell_type": "code",
   "execution_count": 19,
   "id": "50c2ffd8",
   "metadata": {},
   "outputs": [
    {
     "data": {
      "text/plain": [
       "Yigit     20\n",
       "Osman     10\n",
       "Aleyna     8\n",
       "dtype: int64"
      ]
     },
     "execution_count": 19,
     "metadata": {},
     "output_type": "execute_result"
    }
   ],
   "source": [
    "yarıs2"
   ]
  },
  {
   "cell_type": "code",
   "execution_count": 21,
   "id": "76e2ac09",
   "metadata": {},
   "outputs": [
    {
     "data": {
      "text/plain": [
       "10"
      ]
     },
     "execution_count": 21,
     "metadata": {},
     "output_type": "execute_result"
    }
   ],
   "source": [
    "yarıs2[\"Osman\"]"
   ]
  },
  {
   "cell_type": "code",
   "execution_count": 22,
   "id": "49f1c8cd",
   "metadata": {},
   "outputs": [],
   "source": [
    "sonDurum = yarıs1 + yarıs2"
   ]
  },
  {
   "cell_type": "code",
   "execution_count": 23,
   "id": "d81b4f3f",
   "metadata": {},
   "outputs": [
    {
     "data": {
      "text/plain": [
       "Yigit     30\n",
       "Osman     15\n",
       "Aleyna     9\n",
       "dtype: int64"
      ]
     },
     "execution_count": 23,
     "metadata": {},
     "output_type": "execute_result"
    }
   ],
   "source": [
    "sonDurum"
   ]
  },
  {
   "cell_type": "code",
   "execution_count": 24,
   "id": "0dbdef78",
   "metadata": {},
   "outputs": [],
   "source": [
    "# isimler index durumunda"
   ]
  },
  {
   "cell_type": "code",
   "execution_count": 30,
   "id": "efa46972",
   "metadata": {},
   "outputs": [],
   "source": [
    "farkliSeries = pd.Series([20,30,40,50],[\"a\",\"b\",\"c\",\"d\"])"
   ]
  },
  {
   "cell_type": "code",
   "execution_count": 31,
   "id": "ea6a711c",
   "metadata": {},
   "outputs": [],
   "source": [
    "farkliSeries2 = pd.Series([10,5,3,1],[\"a\",\"c\",\"f\",\"g\"])"
   ]
  },
  {
   "cell_type": "code",
   "execution_count": 33,
   "id": "2d4945aa",
   "metadata": {},
   "outputs": [
    {
     "data": {
      "text/plain": [
       "a    30.0\n",
       "b     NaN\n",
       "c    45.0\n",
       "d     NaN\n",
       "f     NaN\n",
       "g     NaN\n",
       "dtype: float64"
      ]
     },
     "execution_count": 33,
     "metadata": {},
     "output_type": "execute_result"
    }
   ],
   "source": [
    "farkliSeries + farkliSeries2"
   ]
  },
  {
   "cell_type": "code",
   "execution_count": 34,
   "id": "86bddb23",
   "metadata": {},
   "outputs": [],
   "source": [
    "#kesisenleri yani alakalı olanları topluyor"
   ]
  },
  {
   "cell_type": "markdown",
   "id": "df41fb25",
   "metadata": {},
   "source": [
    "# Data Frames"
   ]
  },
  {
   "cell_type": "code",
   "execution_count": 36,
   "id": "91a1f8aa",
   "metadata": {},
   "outputs": [],
   "source": [
    "data = np.random.randn(4,3)"
   ]
  },
  {
   "cell_type": "code",
   "execution_count": 37,
   "id": "510f9413",
   "metadata": {},
   "outputs": [
    {
     "data": {
      "text/plain": [
       "array([[ 0.32010779, -0.2689752 , -0.56347942],\n",
       "       [-0.20745631, -0.76300548, -2.0155504 ],\n",
       "       [ 0.10740554,  1.86372176,  0.50931929],\n",
       "       [-1.25439204, -0.60284306,  0.95764963]])"
      ]
     },
     "execution_count": 37,
     "metadata": {},
     "output_type": "execute_result"
    }
   ],
   "source": [
    "data"
   ]
  },
  {
   "cell_type": "code",
   "execution_count": 38,
   "id": "db50c616",
   "metadata": {},
   "outputs": [],
   "source": [
    "dataFrame = pd.DataFrame(data)"
   ]
  },
  {
   "cell_type": "code",
   "execution_count": 39,
   "id": "e18b15e6",
   "metadata": {},
   "outputs": [
    {
     "data": {
      "text/html": [
       "<div>\n",
       "<style scoped>\n",
       "    .dataframe tbody tr th:only-of-type {\n",
       "        vertical-align: middle;\n",
       "    }\n",
       "\n",
       "    .dataframe tbody tr th {\n",
       "        vertical-align: top;\n",
       "    }\n",
       "\n",
       "    .dataframe thead th {\n",
       "        text-align: right;\n",
       "    }\n",
       "</style>\n",
       "<table border=\"1\" class=\"dataframe\">\n",
       "  <thead>\n",
       "    <tr style=\"text-align: right;\">\n",
       "      <th></th>\n",
       "      <th>0</th>\n",
       "      <th>1</th>\n",
       "      <th>2</th>\n",
       "    </tr>\n",
       "  </thead>\n",
       "  <tbody>\n",
       "    <tr>\n",
       "      <th>0</th>\n",
       "      <td>0.320108</td>\n",
       "      <td>-0.268975</td>\n",
       "      <td>-0.563479</td>\n",
       "    </tr>\n",
       "    <tr>\n",
       "      <th>1</th>\n",
       "      <td>-0.207456</td>\n",
       "      <td>-0.763005</td>\n",
       "      <td>-2.015550</td>\n",
       "    </tr>\n",
       "    <tr>\n",
       "      <th>2</th>\n",
       "      <td>0.107406</td>\n",
       "      <td>1.863722</td>\n",
       "      <td>0.509319</td>\n",
       "    </tr>\n",
       "    <tr>\n",
       "      <th>3</th>\n",
       "      <td>-1.254392</td>\n",
       "      <td>-0.602843</td>\n",
       "      <td>0.957650</td>\n",
       "    </tr>\n",
       "  </tbody>\n",
       "</table>\n",
       "</div>"
      ],
      "text/plain": [
       "          0         1         2\n",
       "0  0.320108 -0.268975 -0.563479\n",
       "1 -0.207456 -0.763005 -2.015550\n",
       "2  0.107406  1.863722  0.509319\n",
       "3 -1.254392 -0.602843  0.957650"
      ]
     },
     "execution_count": 39,
     "metadata": {},
     "output_type": "execute_result"
    }
   ],
   "source": [
    "dataFrame"
   ]
  },
  {
   "cell_type": "code",
   "execution_count": 40,
   "id": "ae5280c6",
   "metadata": {},
   "outputs": [
    {
     "data": {
      "text/plain": [
       "0    0.320108\n",
       "1   -0.207456\n",
       "2    0.107406\n",
       "3   -1.254392\n",
       "Name: 0, dtype: float64"
      ]
     },
     "execution_count": 40,
     "metadata": {},
     "output_type": "execute_result"
    }
   ],
   "source": [
    "dataFrame[0]"
   ]
  },
  {
   "cell_type": "code",
   "execution_count": 41,
   "id": "57e590e4",
   "metadata": {},
   "outputs": [],
   "source": [
    "#kolon/sütun olarak getiriyor"
   ]
  },
  {
   "cell_type": "code",
   "execution_count": 42,
   "id": "b2881c3c",
   "metadata": {},
   "outputs": [],
   "source": [
    "newDataFrame = pd.DataFrame(data,index=[\"aley\",\"zeyno\",\"yigit\",\"ali\"],columns=[\"maas\",\"yas\",\"calısma saatleri\"])"
   ]
  },
  {
   "cell_type": "code",
   "execution_count": 43,
   "id": "18f209f6",
   "metadata": {},
   "outputs": [
    {
     "data": {
      "text/html": [
       "<div>\n",
       "<style scoped>\n",
       "    .dataframe tbody tr th:only-of-type {\n",
       "        vertical-align: middle;\n",
       "    }\n",
       "\n",
       "    .dataframe tbody tr th {\n",
       "        vertical-align: top;\n",
       "    }\n",
       "\n",
       "    .dataframe thead th {\n",
       "        text-align: right;\n",
       "    }\n",
       "</style>\n",
       "<table border=\"1\" class=\"dataframe\">\n",
       "  <thead>\n",
       "    <tr style=\"text-align: right;\">\n",
       "      <th></th>\n",
       "      <th>maas</th>\n",
       "      <th>yas</th>\n",
       "      <th>calısma saatleri</th>\n",
       "    </tr>\n",
       "  </thead>\n",
       "  <tbody>\n",
       "    <tr>\n",
       "      <th>aley</th>\n",
       "      <td>0.320108</td>\n",
       "      <td>-0.268975</td>\n",
       "      <td>-0.563479</td>\n",
       "    </tr>\n",
       "    <tr>\n",
       "      <th>zeyno</th>\n",
       "      <td>-0.207456</td>\n",
       "      <td>-0.763005</td>\n",
       "      <td>-2.015550</td>\n",
       "    </tr>\n",
       "    <tr>\n",
       "      <th>yigit</th>\n",
       "      <td>0.107406</td>\n",
       "      <td>1.863722</td>\n",
       "      <td>0.509319</td>\n",
       "    </tr>\n",
       "    <tr>\n",
       "      <th>ali</th>\n",
       "      <td>-1.254392</td>\n",
       "      <td>-0.602843</td>\n",
       "      <td>0.957650</td>\n",
       "    </tr>\n",
       "  </tbody>\n",
       "</table>\n",
       "</div>"
      ],
      "text/plain": [
       "           maas       yas  calısma saatleri\n",
       "aley   0.320108 -0.268975         -0.563479\n",
       "zeyno -0.207456 -0.763005         -2.015550\n",
       "yigit  0.107406  1.863722          0.509319\n",
       "ali   -1.254392 -0.602843          0.957650"
      ]
     },
     "execution_count": 43,
     "metadata": {},
     "output_type": "execute_result"
    }
   ],
   "source": [
    "newDataFrame"
   ]
  },
  {
   "cell_type": "code",
   "execution_count": 44,
   "id": "0161debd",
   "metadata": {},
   "outputs": [
    {
     "data": {
      "text/plain": [
       "aley    -0.268975\n",
       "zeyno   -0.763005\n",
       "yigit    1.863722\n",
       "ali     -0.602843\n",
       "Name: yas, dtype: float64"
      ]
     },
     "execution_count": 44,
     "metadata": {},
     "output_type": "execute_result"
    }
   ],
   "source": [
    "newDataFrame[\"yas\"]"
   ]
  },
  {
   "cell_type": "code",
   "execution_count": 46,
   "id": "b9c1a102",
   "metadata": {},
   "outputs": [
    {
     "data": {
      "text/plain": [
       "aley    -0.563479\n",
       "zeyno   -2.015550\n",
       "yigit    0.509319\n",
       "ali      0.957650\n",
       "Name: calısma saatleri, dtype: float64"
      ]
     },
     "execution_count": 46,
     "metadata": {},
     "output_type": "execute_result"
    }
   ],
   "source": [
    "newDataFrame[\"calısma saatleri\"]"
   ]
  },
  {
   "cell_type": "code",
   "execution_count": 47,
   "id": "dde7ecab",
   "metadata": {},
   "outputs": [
    {
     "data": {
      "text/html": [
       "<div>\n",
       "<style scoped>\n",
       "    .dataframe tbody tr th:only-of-type {\n",
       "        vertical-align: middle;\n",
       "    }\n",
       "\n",
       "    .dataframe tbody tr th {\n",
       "        vertical-align: top;\n",
       "    }\n",
       "\n",
       "    .dataframe thead th {\n",
       "        text-align: right;\n",
       "    }\n",
       "</style>\n",
       "<table border=\"1\" class=\"dataframe\">\n",
       "  <thead>\n",
       "    <tr style=\"text-align: right;\">\n",
       "      <th></th>\n",
       "      <th>maas</th>\n",
       "      <th>yas</th>\n",
       "    </tr>\n",
       "  </thead>\n",
       "  <tbody>\n",
       "    <tr>\n",
       "      <th>aley</th>\n",
       "      <td>0.320108</td>\n",
       "      <td>-0.268975</td>\n",
       "    </tr>\n",
       "    <tr>\n",
       "      <th>zeyno</th>\n",
       "      <td>-0.207456</td>\n",
       "      <td>-0.763005</td>\n",
       "    </tr>\n",
       "    <tr>\n",
       "      <th>yigit</th>\n",
       "      <td>0.107406</td>\n",
       "      <td>1.863722</td>\n",
       "    </tr>\n",
       "    <tr>\n",
       "      <th>ali</th>\n",
       "      <td>-1.254392</td>\n",
       "      <td>-0.602843</td>\n",
       "    </tr>\n",
       "  </tbody>\n",
       "</table>\n",
       "</div>"
      ],
      "text/plain": [
       "           maas       yas\n",
       "aley   0.320108 -0.268975\n",
       "zeyno -0.207456 -0.763005\n",
       "yigit  0.107406  1.863722\n",
       "ali   -1.254392 -0.602843"
      ]
     },
     "execution_count": 47,
     "metadata": {},
     "output_type": "execute_result"
    }
   ],
   "source": [
    "newDataFrame[[\"maas\",\"yas\"]]"
   ]
  },
  {
   "cell_type": "code",
   "execution_count": 48,
   "id": "483065c4",
   "metadata": {},
   "outputs": [],
   "source": [
    "#iç içe iki dizi açarak birden fazla kolon getirebiliriz"
   ]
  },
  {
   "cell_type": "code",
   "execution_count": 49,
   "id": "48cef041",
   "metadata": {},
   "outputs": [
    {
     "ename": "KeyError",
     "evalue": "'aley'",
     "output_type": "error",
     "traceback": [
      "\u001b[1;31m---------------------------------------------------------------------------\u001b[0m",
      "\u001b[1;31mKeyError\u001b[0m                                  Traceback (most recent call last)",
      "\u001b[1;32m~\\anaconda3\\lib\\site-packages\\pandas\\core\\indexes\\base.py\u001b[0m in \u001b[0;36mget_loc\u001b[1;34m(self, key, method, tolerance)\u001b[0m\n\u001b[0;32m   3628\u001b[0m             \u001b[1;32mtry\u001b[0m\u001b[1;33m:\u001b[0m\u001b[1;33m\u001b[0m\u001b[1;33m\u001b[0m\u001b[0m\n\u001b[1;32m-> 3629\u001b[1;33m                 \u001b[1;32mreturn\u001b[0m \u001b[0mself\u001b[0m\u001b[1;33m.\u001b[0m\u001b[0m_engine\u001b[0m\u001b[1;33m.\u001b[0m\u001b[0mget_loc\u001b[0m\u001b[1;33m(\u001b[0m\u001b[0mcasted_key\u001b[0m\u001b[1;33m)\u001b[0m\u001b[1;33m\u001b[0m\u001b[1;33m\u001b[0m\u001b[0m\n\u001b[0m\u001b[0;32m   3630\u001b[0m             \u001b[1;32mexcept\u001b[0m \u001b[0mKeyError\u001b[0m \u001b[1;32mas\u001b[0m \u001b[0merr\u001b[0m\u001b[1;33m:\u001b[0m\u001b[1;33m\u001b[0m\u001b[1;33m\u001b[0m\u001b[0m\n",
      "\u001b[1;32m~\\anaconda3\\lib\\site-packages\\pandas\\_libs\\index.pyx\u001b[0m in \u001b[0;36mpandas._libs.index.IndexEngine.get_loc\u001b[1;34m()\u001b[0m\n",
      "\u001b[1;32m~\\anaconda3\\lib\\site-packages\\pandas\\_libs\\index.pyx\u001b[0m in \u001b[0;36mpandas._libs.index.IndexEngine.get_loc\u001b[1;34m()\u001b[0m\n",
      "\u001b[1;32mpandas\\_libs\\hashtable_class_helper.pxi\u001b[0m in \u001b[0;36mpandas._libs.hashtable.PyObjectHashTable.get_item\u001b[1;34m()\u001b[0m\n",
      "\u001b[1;32mpandas\\_libs\\hashtable_class_helper.pxi\u001b[0m in \u001b[0;36mpandas._libs.hashtable.PyObjectHashTable.get_item\u001b[1;34m()\u001b[0m\n",
      "\u001b[1;31mKeyError\u001b[0m: 'aley'",
      "\nThe above exception was the direct cause of the following exception:\n",
      "\u001b[1;31mKeyError\u001b[0m                                  Traceback (most recent call last)",
      "\u001b[1;32m~\\AppData\\Local\\Temp\\ipykernel_12780\\695642452.py\u001b[0m in \u001b[0;36m<module>\u001b[1;34m\u001b[0m\n\u001b[1;32m----> 1\u001b[1;33m \u001b[0mnewDataFrame\u001b[0m\u001b[1;33m[\u001b[0m\u001b[1;34m\"aley\"\u001b[0m\u001b[1;33m]\u001b[0m\u001b[1;33m\u001b[0m\u001b[1;33m\u001b[0m\u001b[0m\n\u001b[0m",
      "\u001b[1;32m~\\anaconda3\\lib\\site-packages\\pandas\\core\\frame.py\u001b[0m in \u001b[0;36m__getitem__\u001b[1;34m(self, key)\u001b[0m\n\u001b[0;32m   3503\u001b[0m             \u001b[1;32mif\u001b[0m \u001b[0mself\u001b[0m\u001b[1;33m.\u001b[0m\u001b[0mcolumns\u001b[0m\u001b[1;33m.\u001b[0m\u001b[0mnlevels\u001b[0m \u001b[1;33m>\u001b[0m \u001b[1;36m1\u001b[0m\u001b[1;33m:\u001b[0m\u001b[1;33m\u001b[0m\u001b[1;33m\u001b[0m\u001b[0m\n\u001b[0;32m   3504\u001b[0m                 \u001b[1;32mreturn\u001b[0m \u001b[0mself\u001b[0m\u001b[1;33m.\u001b[0m\u001b[0m_getitem_multilevel\u001b[0m\u001b[1;33m(\u001b[0m\u001b[0mkey\u001b[0m\u001b[1;33m)\u001b[0m\u001b[1;33m\u001b[0m\u001b[1;33m\u001b[0m\u001b[0m\n\u001b[1;32m-> 3505\u001b[1;33m             \u001b[0mindexer\u001b[0m \u001b[1;33m=\u001b[0m \u001b[0mself\u001b[0m\u001b[1;33m.\u001b[0m\u001b[0mcolumns\u001b[0m\u001b[1;33m.\u001b[0m\u001b[0mget_loc\u001b[0m\u001b[1;33m(\u001b[0m\u001b[0mkey\u001b[0m\u001b[1;33m)\u001b[0m\u001b[1;33m\u001b[0m\u001b[1;33m\u001b[0m\u001b[0m\n\u001b[0m\u001b[0;32m   3506\u001b[0m             \u001b[1;32mif\u001b[0m \u001b[0mis_integer\u001b[0m\u001b[1;33m(\u001b[0m\u001b[0mindexer\u001b[0m\u001b[1;33m)\u001b[0m\u001b[1;33m:\u001b[0m\u001b[1;33m\u001b[0m\u001b[1;33m\u001b[0m\u001b[0m\n\u001b[0;32m   3507\u001b[0m                 \u001b[0mindexer\u001b[0m \u001b[1;33m=\u001b[0m \u001b[1;33m[\u001b[0m\u001b[0mindexer\u001b[0m\u001b[1;33m]\u001b[0m\u001b[1;33m\u001b[0m\u001b[1;33m\u001b[0m\u001b[0m\n",
      "\u001b[1;32m~\\anaconda3\\lib\\site-packages\\pandas\\core\\indexes\\base.py\u001b[0m in \u001b[0;36mget_loc\u001b[1;34m(self, key, method, tolerance)\u001b[0m\n\u001b[0;32m   3629\u001b[0m                 \u001b[1;32mreturn\u001b[0m \u001b[0mself\u001b[0m\u001b[1;33m.\u001b[0m\u001b[0m_engine\u001b[0m\u001b[1;33m.\u001b[0m\u001b[0mget_loc\u001b[0m\u001b[1;33m(\u001b[0m\u001b[0mcasted_key\u001b[0m\u001b[1;33m)\u001b[0m\u001b[1;33m\u001b[0m\u001b[1;33m\u001b[0m\u001b[0m\n\u001b[0;32m   3630\u001b[0m             \u001b[1;32mexcept\u001b[0m \u001b[0mKeyError\u001b[0m \u001b[1;32mas\u001b[0m \u001b[0merr\u001b[0m\u001b[1;33m:\u001b[0m\u001b[1;33m\u001b[0m\u001b[1;33m\u001b[0m\u001b[0m\n\u001b[1;32m-> 3631\u001b[1;33m                 \u001b[1;32mraise\u001b[0m \u001b[0mKeyError\u001b[0m\u001b[1;33m(\u001b[0m\u001b[0mkey\u001b[0m\u001b[1;33m)\u001b[0m \u001b[1;32mfrom\u001b[0m \u001b[0merr\u001b[0m\u001b[1;33m\u001b[0m\u001b[1;33m\u001b[0m\u001b[0m\n\u001b[0m\u001b[0;32m   3632\u001b[0m             \u001b[1;32mexcept\u001b[0m \u001b[0mTypeError\u001b[0m\u001b[1;33m:\u001b[0m\u001b[1;33m\u001b[0m\u001b[1;33m\u001b[0m\u001b[0m\n\u001b[0;32m   3633\u001b[0m                 \u001b[1;31m# If we have a listlike key, _check_indexing_error will raise\u001b[0m\u001b[1;33m\u001b[0m\u001b[1;33m\u001b[0m\u001b[0m\n",
      "\u001b[1;31mKeyError\u001b[0m: 'aley'"
     ]
    }
   ],
   "source": [
    "newDataFrame[\"aley\"]"
   ]
  },
  {
   "cell_type": "code",
   "execution_count": 50,
   "id": "02a4a363",
   "metadata": {},
   "outputs": [],
   "source": [
    "#öyle bir kolon olmadıgı için hata verdi .loc kullanmalıyım locate satır bazında"
   ]
  },
  {
   "cell_type": "code",
   "execution_count": 51,
   "id": "0a571c73",
   "metadata": {},
   "outputs": [
    {
     "data": {
      "text/plain": [
       "maas                0.320108\n",
       "yas                -0.268975\n",
       "calısma saatleri   -0.563479\n",
       "Name: aley, dtype: float64"
      ]
     },
     "execution_count": 51,
     "metadata": {},
     "output_type": "execute_result"
    }
   ],
   "source": [
    "newDataFrame.loc[\"aley\"]"
   ]
  },
  {
   "cell_type": "code",
   "execution_count": 52,
   "id": "6c3d7080",
   "metadata": {},
   "outputs": [
    {
     "data": {
      "text/plain": [
       "maas               -0.207456\n",
       "yas                -0.763005\n",
       "calısma saatleri   -2.015550\n",
       "Name: zeyno, dtype: float64"
      ]
     },
     "execution_count": 52,
     "metadata": {},
     "output_type": "execute_result"
    }
   ],
   "source": [
    "newDataFrame.loc[\"zeyno\"]"
   ]
  },
  {
   "cell_type": "code",
   "execution_count": 53,
   "id": "8bebbb46",
   "metadata": {},
   "outputs": [
    {
     "data": {
      "text/plain": [
       "maas               -0.207456\n",
       "yas                -0.763005\n",
       "calısma saatleri   -2.015550\n",
       "Name: zeyno, dtype: float64"
      ]
     },
     "execution_count": 53,
     "metadata": {},
     "output_type": "execute_result"
    }
   ],
   "source": [
    "newDataFrame.iloc[1]"
   ]
  },
  {
   "cell_type": "code",
   "execution_count": 54,
   "id": "79537d73",
   "metadata": {},
   "outputs": [],
   "source": [
    "# .iloc ile istenilen index in verileri getirilir"
   ]
  },
  {
   "cell_type": "code",
   "execution_count": 55,
   "id": "8b795f48",
   "metadata": {},
   "outputs": [
    {
     "data": {
      "text/html": [
       "<div>\n",
       "<style scoped>\n",
       "    .dataframe tbody tr th:only-of-type {\n",
       "        vertical-align: middle;\n",
       "    }\n",
       "\n",
       "    .dataframe tbody tr th {\n",
       "        vertical-align: top;\n",
       "    }\n",
       "\n",
       "    .dataframe thead th {\n",
       "        text-align: right;\n",
       "    }\n",
       "</style>\n",
       "<table border=\"1\" class=\"dataframe\">\n",
       "  <thead>\n",
       "    <tr style=\"text-align: right;\">\n",
       "      <th></th>\n",
       "      <th>maas</th>\n",
       "      <th>yas</th>\n",
       "      <th>calısma saatleri</th>\n",
       "    </tr>\n",
       "  </thead>\n",
       "  <tbody>\n",
       "    <tr>\n",
       "      <th>aley</th>\n",
       "      <td>0.320108</td>\n",
       "      <td>-0.268975</td>\n",
       "      <td>-0.563479</td>\n",
       "    </tr>\n",
       "    <tr>\n",
       "      <th>zeyno</th>\n",
       "      <td>-0.207456</td>\n",
       "      <td>-0.763005</td>\n",
       "      <td>-2.015550</td>\n",
       "    </tr>\n",
       "    <tr>\n",
       "      <th>yigit</th>\n",
       "      <td>0.107406</td>\n",
       "      <td>1.863722</td>\n",
       "      <td>0.509319</td>\n",
       "    </tr>\n",
       "    <tr>\n",
       "      <th>ali</th>\n",
       "      <td>-1.254392</td>\n",
       "      <td>-0.602843</td>\n",
       "      <td>0.957650</td>\n",
       "    </tr>\n",
       "  </tbody>\n",
       "</table>\n",
       "</div>"
      ],
      "text/plain": [
       "           maas       yas  calısma saatleri\n",
       "aley   0.320108 -0.268975         -0.563479\n",
       "zeyno -0.207456 -0.763005         -2.015550\n",
       "yigit  0.107406  1.863722          0.509319\n",
       "ali   -1.254392 -0.602843          0.957650"
      ]
     },
     "execution_count": 55,
     "metadata": {},
     "output_type": "execute_result"
    }
   ],
   "source": [
    "newDataFrame"
   ]
  },
  {
   "cell_type": "code",
   "execution_count": 56,
   "id": "2236f329",
   "metadata": {},
   "outputs": [],
   "source": [
    "#kolon eklemek istersek>"
   ]
  },
  {
   "cell_type": "code",
   "execution_count": 57,
   "id": "aa444e6d",
   "metadata": {},
   "outputs": [],
   "source": [
    "newDataFrame[\"emeklilik yasi\"] = newDataFrame[\"yas\"]+newDataFrame[\"yas\"]"
   ]
  },
  {
   "cell_type": "code",
   "execution_count": 58,
   "id": "b5ccfb42",
   "metadata": {},
   "outputs": [
    {
     "data": {
      "text/html": [
       "<div>\n",
       "<style scoped>\n",
       "    .dataframe tbody tr th:only-of-type {\n",
       "        vertical-align: middle;\n",
       "    }\n",
       "\n",
       "    .dataframe tbody tr th {\n",
       "        vertical-align: top;\n",
       "    }\n",
       "\n",
       "    .dataframe thead th {\n",
       "        text-align: right;\n",
       "    }\n",
       "</style>\n",
       "<table border=\"1\" class=\"dataframe\">\n",
       "  <thead>\n",
       "    <tr style=\"text-align: right;\">\n",
       "      <th></th>\n",
       "      <th>maas</th>\n",
       "      <th>yas</th>\n",
       "      <th>calısma saatleri</th>\n",
       "      <th>emeklilik yasi</th>\n",
       "    </tr>\n",
       "  </thead>\n",
       "  <tbody>\n",
       "    <tr>\n",
       "      <th>aley</th>\n",
       "      <td>0.320108</td>\n",
       "      <td>-0.268975</td>\n",
       "      <td>-0.563479</td>\n",
       "      <td>-0.537950</td>\n",
       "    </tr>\n",
       "    <tr>\n",
       "      <th>zeyno</th>\n",
       "      <td>-0.207456</td>\n",
       "      <td>-0.763005</td>\n",
       "      <td>-2.015550</td>\n",
       "      <td>-1.526011</td>\n",
       "    </tr>\n",
       "    <tr>\n",
       "      <th>yigit</th>\n",
       "      <td>0.107406</td>\n",
       "      <td>1.863722</td>\n",
       "      <td>0.509319</td>\n",
       "      <td>3.727444</td>\n",
       "    </tr>\n",
       "    <tr>\n",
       "      <th>ali</th>\n",
       "      <td>-1.254392</td>\n",
       "      <td>-0.602843</td>\n",
       "      <td>0.957650</td>\n",
       "      <td>-1.205686</td>\n",
       "    </tr>\n",
       "  </tbody>\n",
       "</table>\n",
       "</div>"
      ],
      "text/plain": [
       "           maas       yas  calısma saatleri  emeklilik yasi\n",
       "aley   0.320108 -0.268975         -0.563479       -0.537950\n",
       "zeyno -0.207456 -0.763005         -2.015550       -1.526011\n",
       "yigit  0.107406  1.863722          0.509319        3.727444\n",
       "ali   -1.254392 -0.602843          0.957650       -1.205686"
      ]
     },
     "execution_count": 58,
     "metadata": {},
     "output_type": "execute_result"
    }
   ],
   "source": [
    "newDataFrame"
   ]
  },
  {
   "cell_type": "code",
   "execution_count": 63,
   "id": "2e4f71ec",
   "metadata": {},
   "outputs": [],
   "source": [
    "#kolon silmek istersek> .drop() axis = 1 sütun"
   ]
  },
  {
   "cell_type": "code",
   "execution_count": 62,
   "id": "f6a39ebc",
   "metadata": {},
   "outputs": [
    {
     "data": {
      "text/html": [
       "<div>\n",
       "<style scoped>\n",
       "    .dataframe tbody tr th:only-of-type {\n",
       "        vertical-align: middle;\n",
       "    }\n",
       "\n",
       "    .dataframe tbody tr th {\n",
       "        vertical-align: top;\n",
       "    }\n",
       "\n",
       "    .dataframe thead th {\n",
       "        text-align: right;\n",
       "    }\n",
       "</style>\n",
       "<table border=\"1\" class=\"dataframe\">\n",
       "  <thead>\n",
       "    <tr style=\"text-align: right;\">\n",
       "      <th></th>\n",
       "      <th>maas</th>\n",
       "      <th>yas</th>\n",
       "      <th>calısma saatleri</th>\n",
       "    </tr>\n",
       "  </thead>\n",
       "  <tbody>\n",
       "    <tr>\n",
       "      <th>aley</th>\n",
       "      <td>0.320108</td>\n",
       "      <td>-0.268975</td>\n",
       "      <td>-0.563479</td>\n",
       "    </tr>\n",
       "    <tr>\n",
       "      <th>zeyno</th>\n",
       "      <td>-0.207456</td>\n",
       "      <td>-0.763005</td>\n",
       "      <td>-2.015550</td>\n",
       "    </tr>\n",
       "    <tr>\n",
       "      <th>yigit</th>\n",
       "      <td>0.107406</td>\n",
       "      <td>1.863722</td>\n",
       "      <td>0.509319</td>\n",
       "    </tr>\n",
       "    <tr>\n",
       "      <th>ali</th>\n",
       "      <td>-1.254392</td>\n",
       "      <td>-0.602843</td>\n",
       "      <td>0.957650</td>\n",
       "    </tr>\n",
       "  </tbody>\n",
       "</table>\n",
       "</div>"
      ],
      "text/plain": [
       "           maas       yas  calısma saatleri\n",
       "aley   0.320108 -0.268975         -0.563479\n",
       "zeyno -0.207456 -0.763005         -2.015550\n",
       "yigit  0.107406  1.863722          0.509319\n",
       "ali   -1.254392 -0.602843          0.957650"
      ]
     },
     "execution_count": 62,
     "metadata": {},
     "output_type": "execute_result"
    }
   ],
   "source": [
    "newDataFrame.drop(\"emeklilik yasi\",axis = 1)"
   ]
  },
  {
   "cell_type": "code",
   "execution_count": 66,
   "id": "cb124e04",
   "metadata": {},
   "outputs": [],
   "source": [
    "#axis = 0 satır ama default olarak zaten satırı siler"
   ]
  },
  {
   "cell_type": "code",
   "execution_count": 65,
   "id": "6f3af34e",
   "metadata": {},
   "outputs": [
    {
     "data": {
      "text/html": [
       "<div>\n",
       "<style scoped>\n",
       "    .dataframe tbody tr th:only-of-type {\n",
       "        vertical-align: middle;\n",
       "    }\n",
       "\n",
       "    .dataframe tbody tr th {\n",
       "        vertical-align: top;\n",
       "    }\n",
       "\n",
       "    .dataframe thead th {\n",
       "        text-align: right;\n",
       "    }\n",
       "</style>\n",
       "<table border=\"1\" class=\"dataframe\">\n",
       "  <thead>\n",
       "    <tr style=\"text-align: right;\">\n",
       "      <th></th>\n",
       "      <th>maas</th>\n",
       "      <th>yas</th>\n",
       "      <th>calısma saatleri</th>\n",
       "      <th>emeklilik yasi</th>\n",
       "    </tr>\n",
       "  </thead>\n",
       "  <tbody>\n",
       "    <tr>\n",
       "      <th>aley</th>\n",
       "      <td>0.320108</td>\n",
       "      <td>-0.268975</td>\n",
       "      <td>-0.563479</td>\n",
       "      <td>-0.537950</td>\n",
       "    </tr>\n",
       "    <tr>\n",
       "      <th>zeyno</th>\n",
       "      <td>-0.207456</td>\n",
       "      <td>-0.763005</td>\n",
       "      <td>-2.015550</td>\n",
       "      <td>-1.526011</td>\n",
       "    </tr>\n",
       "    <tr>\n",
       "      <th>yigit</th>\n",
       "      <td>0.107406</td>\n",
       "      <td>1.863722</td>\n",
       "      <td>0.509319</td>\n",
       "      <td>3.727444</td>\n",
       "    </tr>\n",
       "  </tbody>\n",
       "</table>\n",
       "</div>"
      ],
      "text/plain": [
       "           maas       yas  calısma saatleri  emeklilik yasi\n",
       "aley   0.320108 -0.268975         -0.563479       -0.537950\n",
       "zeyno -0.207456 -0.763005         -2.015550       -1.526011\n",
       "yigit  0.107406  1.863722          0.509319        3.727444"
      ]
     },
     "execution_count": 65,
     "metadata": {},
     "output_type": "execute_result"
    }
   ],
   "source": [
    "newDataFrame.drop(\"ali\",axis = 0)"
   ]
  },
  {
   "cell_type": "code",
   "execution_count": 67,
   "id": "2cc820bf",
   "metadata": {},
   "outputs": [
    {
     "data": {
      "text/html": [
       "<div>\n",
       "<style scoped>\n",
       "    .dataframe tbody tr th:only-of-type {\n",
       "        vertical-align: middle;\n",
       "    }\n",
       "\n",
       "    .dataframe tbody tr th {\n",
       "        vertical-align: top;\n",
       "    }\n",
       "\n",
       "    .dataframe thead th {\n",
       "        text-align: right;\n",
       "    }\n",
       "</style>\n",
       "<table border=\"1\" class=\"dataframe\">\n",
       "  <thead>\n",
       "    <tr style=\"text-align: right;\">\n",
       "      <th></th>\n",
       "      <th>maas</th>\n",
       "      <th>yas</th>\n",
       "      <th>calısma saatleri</th>\n",
       "      <th>emeklilik yasi</th>\n",
       "    </tr>\n",
       "  </thead>\n",
       "  <tbody>\n",
       "    <tr>\n",
       "      <th>aley</th>\n",
       "      <td>0.320108</td>\n",
       "      <td>-0.268975</td>\n",
       "      <td>-0.563479</td>\n",
       "      <td>-0.537950</td>\n",
       "    </tr>\n",
       "    <tr>\n",
       "      <th>zeyno</th>\n",
       "      <td>-0.207456</td>\n",
       "      <td>-0.763005</td>\n",
       "      <td>-2.015550</td>\n",
       "      <td>-1.526011</td>\n",
       "    </tr>\n",
       "    <tr>\n",
       "      <th>yigit</th>\n",
       "      <td>0.107406</td>\n",
       "      <td>1.863722</td>\n",
       "      <td>0.509319</td>\n",
       "      <td>3.727444</td>\n",
       "    </tr>\n",
       "    <tr>\n",
       "      <th>ali</th>\n",
       "      <td>-1.254392</td>\n",
       "      <td>-0.602843</td>\n",
       "      <td>0.957650</td>\n",
       "      <td>-1.205686</td>\n",
       "    </tr>\n",
       "  </tbody>\n",
       "</table>\n",
       "</div>"
      ],
      "text/plain": [
       "           maas       yas  calısma saatleri  emeklilik yasi\n",
       "aley   0.320108 -0.268975         -0.563479       -0.537950\n",
       "zeyno -0.207456 -0.763005         -2.015550       -1.526011\n",
       "yigit  0.107406  1.863722          0.509319        3.727444\n",
       "ali   -1.254392 -0.602843          0.957650       -1.205686"
      ]
     },
     "execution_count": 67,
     "metadata": {},
     "output_type": "execute_result"
    }
   ],
   "source": [
    "newDataFrame"
   ]
  },
  {
   "cell_type": "code",
   "execution_count": 71,
   "id": "02508bca",
   "metadata": {},
   "outputs": [],
   "source": [
    "#sanki hiç silinmemiş gibi görünüyor, bunun için inplace=True kullanmalıyız"
   ]
  },
  {
   "cell_type": "code",
   "execution_count": 69,
   "id": "09a1c0d2",
   "metadata": {},
   "outputs": [],
   "source": [
    "newDataFrame.drop(\"emeklilik yasi\",axis=1,inplace=True)"
   ]
  },
  {
   "cell_type": "code",
   "execution_count": 70,
   "id": "ad684e70",
   "metadata": {},
   "outputs": [
    {
     "data": {
      "text/html": [
       "<div>\n",
       "<style scoped>\n",
       "    .dataframe tbody tr th:only-of-type {\n",
       "        vertical-align: middle;\n",
       "    }\n",
       "\n",
       "    .dataframe tbody tr th {\n",
       "        vertical-align: top;\n",
       "    }\n",
       "\n",
       "    .dataframe thead th {\n",
       "        text-align: right;\n",
       "    }\n",
       "</style>\n",
       "<table border=\"1\" class=\"dataframe\">\n",
       "  <thead>\n",
       "    <tr style=\"text-align: right;\">\n",
       "      <th></th>\n",
       "      <th>maas</th>\n",
       "      <th>yas</th>\n",
       "      <th>calısma saatleri</th>\n",
       "    </tr>\n",
       "  </thead>\n",
       "  <tbody>\n",
       "    <tr>\n",
       "      <th>aley</th>\n",
       "      <td>0.320108</td>\n",
       "      <td>-0.268975</td>\n",
       "      <td>-0.563479</td>\n",
       "    </tr>\n",
       "    <tr>\n",
       "      <th>zeyno</th>\n",
       "      <td>-0.207456</td>\n",
       "      <td>-0.763005</td>\n",
       "      <td>-2.015550</td>\n",
       "    </tr>\n",
       "    <tr>\n",
       "      <th>yigit</th>\n",
       "      <td>0.107406</td>\n",
       "      <td>1.863722</td>\n",
       "      <td>0.509319</td>\n",
       "    </tr>\n",
       "    <tr>\n",
       "      <th>ali</th>\n",
       "      <td>-1.254392</td>\n",
       "      <td>-0.602843</td>\n",
       "      <td>0.957650</td>\n",
       "    </tr>\n",
       "  </tbody>\n",
       "</table>\n",
       "</div>"
      ],
      "text/plain": [
       "           maas       yas  calısma saatleri\n",
       "aley   0.320108 -0.268975         -0.563479\n",
       "zeyno -0.207456 -0.763005         -2.015550\n",
       "yigit  0.107406  1.863722          0.509319\n",
       "ali   -1.254392 -0.602843          0.957650"
      ]
     },
     "execution_count": 70,
     "metadata": {},
     "output_type": "execute_result"
    }
   ],
   "source": [
    "newDataFrame"
   ]
  },
  {
   "cell_type": "code",
   "execution_count": 73,
   "id": "50bf1a33",
   "metadata": {},
   "outputs": [
    {
     "data": {
      "text/plain": [
       "-0.26897519583785645"
      ]
     },
     "execution_count": 73,
     "metadata": {},
     "output_type": "execute_result"
    }
   ],
   "source": [
    "newDataFrame.loc[\"aley\"][\"yas\"]"
   ]
  },
  {
   "cell_type": "code",
   "execution_count": 74,
   "id": "b9e22333",
   "metadata": {},
   "outputs": [
    {
     "data": {
      "text/plain": [
       "-0.26897519583785645"
      ]
     },
     "execution_count": 74,
     "metadata": {},
     "output_type": "execute_result"
    }
   ],
   "source": [
    "newDataFrame.loc[\"aley\",\"yas\"]"
   ]
  },
  {
   "cell_type": "code",
   "execution_count": 75,
   "id": "0fbd3b62",
   "metadata": {},
   "outputs": [
    {
     "data": {
      "text/html": [
       "<div>\n",
       "<style scoped>\n",
       "    .dataframe tbody tr th:only-of-type {\n",
       "        vertical-align: middle;\n",
       "    }\n",
       "\n",
       "    .dataframe tbody tr th {\n",
       "        vertical-align: top;\n",
       "    }\n",
       "\n",
       "    .dataframe thead th {\n",
       "        text-align: right;\n",
       "    }\n",
       "</style>\n",
       "<table border=\"1\" class=\"dataframe\">\n",
       "  <thead>\n",
       "    <tr style=\"text-align: right;\">\n",
       "      <th></th>\n",
       "      <th>maas</th>\n",
       "      <th>yas</th>\n",
       "      <th>calısma saatleri</th>\n",
       "    </tr>\n",
       "  </thead>\n",
       "  <tbody>\n",
       "    <tr>\n",
       "      <th>aley</th>\n",
       "      <td>0.320108</td>\n",
       "      <td>-0.268975</td>\n",
       "      <td>-0.563479</td>\n",
       "    </tr>\n",
       "    <tr>\n",
       "      <th>zeyno</th>\n",
       "      <td>-0.207456</td>\n",
       "      <td>-0.763005</td>\n",
       "      <td>-2.015550</td>\n",
       "    </tr>\n",
       "    <tr>\n",
       "      <th>yigit</th>\n",
       "      <td>0.107406</td>\n",
       "      <td>1.863722</td>\n",
       "      <td>0.509319</td>\n",
       "    </tr>\n",
       "    <tr>\n",
       "      <th>ali</th>\n",
       "      <td>-1.254392</td>\n",
       "      <td>-0.602843</td>\n",
       "      <td>0.957650</td>\n",
       "    </tr>\n",
       "  </tbody>\n",
       "</table>\n",
       "</div>"
      ],
      "text/plain": [
       "           maas       yas  calısma saatleri\n",
       "aley   0.320108 -0.268975         -0.563479\n",
       "zeyno -0.207456 -0.763005         -2.015550\n",
       "yigit  0.107406  1.863722          0.509319\n",
       "ali   -1.254392 -0.602843          0.957650"
      ]
     },
     "execution_count": 75,
     "metadata": {},
     "output_type": "execute_result"
    }
   ],
   "source": [
    "newDataFrame"
   ]
  },
  {
   "cell_type": "code",
   "execution_count": 80,
   "id": "f5af5836",
   "metadata": {},
   "outputs": [
    {
     "data": {
      "text/html": [
       "<div>\n",
       "<style scoped>\n",
       "    .dataframe tbody tr th:only-of-type {\n",
       "        vertical-align: middle;\n",
       "    }\n",
       "\n",
       "    .dataframe tbody tr th {\n",
       "        vertical-align: top;\n",
       "    }\n",
       "\n",
       "    .dataframe thead th {\n",
       "        text-align: right;\n",
       "    }\n",
       "</style>\n",
       "<table border=\"1\" class=\"dataframe\">\n",
       "  <thead>\n",
       "    <tr style=\"text-align: right;\">\n",
       "      <th></th>\n",
       "      <th>maas</th>\n",
       "      <th>yas</th>\n",
       "      <th>calısma saatleri</th>\n",
       "    </tr>\n",
       "  </thead>\n",
       "  <tbody>\n",
       "    <tr>\n",
       "      <th>aley</th>\n",
       "      <td>False</td>\n",
       "      <td>True</td>\n",
       "      <td>True</td>\n",
       "    </tr>\n",
       "    <tr>\n",
       "      <th>zeyno</th>\n",
       "      <td>True</td>\n",
       "      <td>True</td>\n",
       "      <td>True</td>\n",
       "    </tr>\n",
       "    <tr>\n",
       "      <th>yigit</th>\n",
       "      <td>False</td>\n",
       "      <td>False</td>\n",
       "      <td>False</td>\n",
       "    </tr>\n",
       "    <tr>\n",
       "      <th>ali</th>\n",
       "      <td>True</td>\n",
       "      <td>True</td>\n",
       "      <td>False</td>\n",
       "    </tr>\n",
       "  </tbody>\n",
       "</table>\n",
       "</div>"
      ],
      "text/plain": [
       "        maas    yas  calısma saatleri\n",
       "aley   False   True              True\n",
       "zeyno   True   True              True\n",
       "yigit  False  False             False\n",
       "ali     True   True             False"
      ]
     },
     "execution_count": 80,
     "metadata": {},
     "output_type": "execute_result"
    }
   ],
   "source": [
    "newDataFrame < 0"
   ]
  },
  {
   "cell_type": "code",
   "execution_count": 81,
   "id": "09092639",
   "metadata": {},
   "outputs": [],
   "source": [
    "boolean = newDataFrame < 0"
   ]
  },
  {
   "cell_type": "code",
   "execution_count": 82,
   "id": "82d1cc90",
   "metadata": {},
   "outputs": [
    {
     "data": {
      "text/html": [
       "<div>\n",
       "<style scoped>\n",
       "    .dataframe tbody tr th:only-of-type {\n",
       "        vertical-align: middle;\n",
       "    }\n",
       "\n",
       "    .dataframe tbody tr th {\n",
       "        vertical-align: top;\n",
       "    }\n",
       "\n",
       "    .dataframe thead th {\n",
       "        text-align: right;\n",
       "    }\n",
       "</style>\n",
       "<table border=\"1\" class=\"dataframe\">\n",
       "  <thead>\n",
       "    <tr style=\"text-align: right;\">\n",
       "      <th></th>\n",
       "      <th>maas</th>\n",
       "      <th>yas</th>\n",
       "      <th>calısma saatleri</th>\n",
       "    </tr>\n",
       "  </thead>\n",
       "  <tbody>\n",
       "    <tr>\n",
       "      <th>aley</th>\n",
       "      <td>0.320108</td>\n",
       "      <td>-0.268975</td>\n",
       "      <td>-0.563479</td>\n",
       "    </tr>\n",
       "    <tr>\n",
       "      <th>zeyno</th>\n",
       "      <td>-0.207456</td>\n",
       "      <td>-0.763005</td>\n",
       "      <td>-2.015550</td>\n",
       "    </tr>\n",
       "    <tr>\n",
       "      <th>yigit</th>\n",
       "      <td>0.107406</td>\n",
       "      <td>1.863722</td>\n",
       "      <td>0.509319</td>\n",
       "    </tr>\n",
       "    <tr>\n",
       "      <th>ali</th>\n",
       "      <td>-1.254392</td>\n",
       "      <td>-0.602843</td>\n",
       "      <td>0.957650</td>\n",
       "    </tr>\n",
       "  </tbody>\n",
       "</table>\n",
       "</div>"
      ],
      "text/plain": [
       "           maas       yas  calısma saatleri\n",
       "aley   0.320108 -0.268975         -0.563479\n",
       "zeyno -0.207456 -0.763005         -2.015550\n",
       "yigit  0.107406  1.863722          0.509319\n",
       "ali   -1.254392 -0.602843          0.957650"
      ]
     },
     "execution_count": 82,
     "metadata": {},
     "output_type": "execute_result"
    }
   ],
   "source": [
    "newDataFrame"
   ]
  },
  {
   "cell_type": "code",
   "execution_count": 83,
   "id": "47192dcc",
   "metadata": {},
   "outputs": [
    {
     "data": {
      "text/html": [
       "<div>\n",
       "<style scoped>\n",
       "    .dataframe tbody tr th:only-of-type {\n",
       "        vertical-align: middle;\n",
       "    }\n",
       "\n",
       "    .dataframe tbody tr th {\n",
       "        vertical-align: top;\n",
       "    }\n",
       "\n",
       "    .dataframe thead th {\n",
       "        text-align: right;\n",
       "    }\n",
       "</style>\n",
       "<table border=\"1\" class=\"dataframe\">\n",
       "  <thead>\n",
       "    <tr style=\"text-align: right;\">\n",
       "      <th></th>\n",
       "      <th>maas</th>\n",
       "      <th>yas</th>\n",
       "      <th>calısma saatleri</th>\n",
       "    </tr>\n",
       "  </thead>\n",
       "  <tbody>\n",
       "    <tr>\n",
       "      <th>aley</th>\n",
       "      <td>NaN</td>\n",
       "      <td>-0.268975</td>\n",
       "      <td>-0.563479</td>\n",
       "    </tr>\n",
       "    <tr>\n",
       "      <th>zeyno</th>\n",
       "      <td>-0.207456</td>\n",
       "      <td>-0.763005</td>\n",
       "      <td>-2.015550</td>\n",
       "    </tr>\n",
       "    <tr>\n",
       "      <th>yigit</th>\n",
       "      <td>NaN</td>\n",
       "      <td>NaN</td>\n",
       "      <td>NaN</td>\n",
       "    </tr>\n",
       "    <tr>\n",
       "      <th>ali</th>\n",
       "      <td>-1.254392</td>\n",
       "      <td>-0.602843</td>\n",
       "      <td>NaN</td>\n",
       "    </tr>\n",
       "  </tbody>\n",
       "</table>\n",
       "</div>"
      ],
      "text/plain": [
       "           maas       yas  calısma saatleri\n",
       "aley        NaN -0.268975         -0.563479\n",
       "zeyno -0.207456 -0.763005         -2.015550\n",
       "yigit       NaN       NaN               NaN\n",
       "ali   -1.254392 -0.602843               NaN"
      ]
     },
     "execution_count": 83,
     "metadata": {},
     "output_type": "execute_result"
    }
   ],
   "source": [
    "newDataFrame[boolean]"
   ]
  },
  {
   "cell_type": "code",
   "execution_count": 84,
   "id": "03b07595",
   "metadata": {},
   "outputs": [
    {
     "data": {
      "text/plain": [
       "aley     False\n",
       "zeyno    False\n",
       "yigit     True\n",
       "ali      False\n",
       "Name: yas, dtype: bool"
      ]
     },
     "execution_count": 84,
     "metadata": {},
     "output_type": "execute_result"
    }
   ],
   "source": [
    "newDataFrame[\"yas\"] > 0"
   ]
  },
  {
   "cell_type": "code",
   "execution_count": 85,
   "id": "701bc49b",
   "metadata": {},
   "outputs": [
    {
     "data": {
      "text/html": [
       "<div>\n",
       "<style scoped>\n",
       "    .dataframe tbody tr th:only-of-type {\n",
       "        vertical-align: middle;\n",
       "    }\n",
       "\n",
       "    .dataframe tbody tr th {\n",
       "        vertical-align: top;\n",
       "    }\n",
       "\n",
       "    .dataframe thead th {\n",
       "        text-align: right;\n",
       "    }\n",
       "</style>\n",
       "<table border=\"1\" class=\"dataframe\">\n",
       "  <thead>\n",
       "    <tr style=\"text-align: right;\">\n",
       "      <th></th>\n",
       "      <th>maas</th>\n",
       "      <th>yas</th>\n",
       "      <th>calısma saatleri</th>\n",
       "    </tr>\n",
       "  </thead>\n",
       "  <tbody>\n",
       "    <tr>\n",
       "      <th>yigit</th>\n",
       "      <td>0.107406</td>\n",
       "      <td>1.863722</td>\n",
       "      <td>0.509319</td>\n",
       "    </tr>\n",
       "  </tbody>\n",
       "</table>\n",
       "</div>"
      ],
      "text/plain": [
       "           maas       yas  calısma saatleri\n",
       "yigit  0.107406  1.863722          0.509319"
      ]
     },
     "execution_count": 85,
     "metadata": {},
     "output_type": "execute_result"
    }
   ],
   "source": [
    "newDataFrame[newDataFrame[\"yas\"] > 0]"
   ]
  },
  {
   "cell_type": "code",
   "execution_count": 86,
   "id": "97810c2f",
   "metadata": {},
   "outputs": [
    {
     "data": {
      "text/html": [
       "<div>\n",
       "<style scoped>\n",
       "    .dataframe tbody tr th:only-of-type {\n",
       "        vertical-align: middle;\n",
       "    }\n",
       "\n",
       "    .dataframe tbody tr th {\n",
       "        vertical-align: top;\n",
       "    }\n",
       "\n",
       "    .dataframe thead th {\n",
       "        text-align: right;\n",
       "    }\n",
       "</style>\n",
       "<table border=\"1\" class=\"dataframe\">\n",
       "  <thead>\n",
       "    <tr style=\"text-align: right;\">\n",
       "      <th></th>\n",
       "      <th>maas</th>\n",
       "      <th>yas</th>\n",
       "      <th>calısma saatleri</th>\n",
       "    </tr>\n",
       "  </thead>\n",
       "  <tbody>\n",
       "    <tr>\n",
       "      <th>yigit</th>\n",
       "      <td>0.107406</td>\n",
       "      <td>1.863722</td>\n",
       "      <td>0.509319</td>\n",
       "    </tr>\n",
       "    <tr>\n",
       "      <th>ali</th>\n",
       "      <td>-1.254392</td>\n",
       "      <td>-0.602843</td>\n",
       "      <td>0.957650</td>\n",
       "    </tr>\n",
       "  </tbody>\n",
       "</table>\n",
       "</div>"
      ],
      "text/plain": [
       "           maas       yas  calısma saatleri\n",
       "yigit  0.107406  1.863722          0.509319\n",
       "ali   -1.254392 -0.602843          0.957650"
      ]
     },
     "execution_count": 86,
     "metadata": {},
     "output_type": "execute_result"
    }
   ],
   "source": [
    "newDataFrame[newDataFrame[\"calısma saatleri\"] > 0]"
   ]
  },
  {
   "cell_type": "markdown",
   "id": "5ee3af0f",
   "metadata": {},
   "source": [
    "# index değiştirme"
   ]
  },
  {
   "cell_type": "code",
   "execution_count": 87,
   "id": "dcdfd7a8",
   "metadata": {},
   "outputs": [
    {
     "data": {
      "text/html": [
       "<div>\n",
       "<style scoped>\n",
       "    .dataframe tbody tr th:only-of-type {\n",
       "        vertical-align: middle;\n",
       "    }\n",
       "\n",
       "    .dataframe tbody tr th {\n",
       "        vertical-align: top;\n",
       "    }\n",
       "\n",
       "    .dataframe thead th {\n",
       "        text-align: right;\n",
       "    }\n",
       "</style>\n",
       "<table border=\"1\" class=\"dataframe\">\n",
       "  <thead>\n",
       "    <tr style=\"text-align: right;\">\n",
       "      <th></th>\n",
       "      <th>index</th>\n",
       "      <th>maas</th>\n",
       "      <th>yas</th>\n",
       "      <th>calısma saatleri</th>\n",
       "    </tr>\n",
       "  </thead>\n",
       "  <tbody>\n",
       "    <tr>\n",
       "      <th>0</th>\n",
       "      <td>aley</td>\n",
       "      <td>0.320108</td>\n",
       "      <td>-0.268975</td>\n",
       "      <td>-0.563479</td>\n",
       "    </tr>\n",
       "    <tr>\n",
       "      <th>1</th>\n",
       "      <td>zeyno</td>\n",
       "      <td>-0.207456</td>\n",
       "      <td>-0.763005</td>\n",
       "      <td>-2.015550</td>\n",
       "    </tr>\n",
       "    <tr>\n",
       "      <th>2</th>\n",
       "      <td>yigit</td>\n",
       "      <td>0.107406</td>\n",
       "      <td>1.863722</td>\n",
       "      <td>0.509319</td>\n",
       "    </tr>\n",
       "    <tr>\n",
       "      <th>3</th>\n",
       "      <td>ali</td>\n",
       "      <td>-1.254392</td>\n",
       "      <td>-0.602843</td>\n",
       "      <td>0.957650</td>\n",
       "    </tr>\n",
       "  </tbody>\n",
       "</table>\n",
       "</div>"
      ],
      "text/plain": [
       "   index      maas       yas  calısma saatleri\n",
       "0   aley  0.320108 -0.268975         -0.563479\n",
       "1  zeyno -0.207456 -0.763005         -2.015550\n",
       "2  yigit  0.107406  1.863722          0.509319\n",
       "3    ali -1.254392 -0.602843          0.957650"
      ]
     },
     "execution_count": 87,
     "metadata": {},
     "output_type": "execute_result"
    }
   ],
   "source": [
    "newDataFrame.reset_index()"
   ]
  },
  {
   "cell_type": "code",
   "execution_count": 88,
   "id": "75cb9ec3",
   "metadata": {},
   "outputs": [
    {
     "data": {
      "text/html": [
       "<div>\n",
       "<style scoped>\n",
       "    .dataframe tbody tr th:only-of-type {\n",
       "        vertical-align: middle;\n",
       "    }\n",
       "\n",
       "    .dataframe tbody tr th {\n",
       "        vertical-align: top;\n",
       "    }\n",
       "\n",
       "    .dataframe thead th {\n",
       "        text-align: right;\n",
       "    }\n",
       "</style>\n",
       "<table border=\"1\" class=\"dataframe\">\n",
       "  <thead>\n",
       "    <tr style=\"text-align: right;\">\n",
       "      <th></th>\n",
       "      <th>maas</th>\n",
       "      <th>yas</th>\n",
       "      <th>calısma saatleri</th>\n",
       "    </tr>\n",
       "  </thead>\n",
       "  <tbody>\n",
       "    <tr>\n",
       "      <th>aley</th>\n",
       "      <td>0.320108</td>\n",
       "      <td>-0.268975</td>\n",
       "      <td>-0.563479</td>\n",
       "    </tr>\n",
       "    <tr>\n",
       "      <th>zeyno</th>\n",
       "      <td>-0.207456</td>\n",
       "      <td>-0.763005</td>\n",
       "      <td>-2.015550</td>\n",
       "    </tr>\n",
       "    <tr>\n",
       "      <th>yigit</th>\n",
       "      <td>0.107406</td>\n",
       "      <td>1.863722</td>\n",
       "      <td>0.509319</td>\n",
       "    </tr>\n",
       "    <tr>\n",
       "      <th>ali</th>\n",
       "      <td>-1.254392</td>\n",
       "      <td>-0.602843</td>\n",
       "      <td>0.957650</td>\n",
       "    </tr>\n",
       "  </tbody>\n",
       "</table>\n",
       "</div>"
      ],
      "text/plain": [
       "           maas       yas  calısma saatleri\n",
       "aley   0.320108 -0.268975         -0.563479\n",
       "zeyno -0.207456 -0.763005         -2.015550\n",
       "yigit  0.107406  1.863722          0.509319\n",
       "ali   -1.254392 -0.602843          0.957650"
      ]
     },
     "execution_count": 88,
     "metadata": {},
     "output_type": "execute_result"
    }
   ],
   "source": [
    "newDataFrame"
   ]
  },
  {
   "cell_type": "code",
   "execution_count": 89,
   "id": "07a2852e",
   "metadata": {},
   "outputs": [],
   "source": [
    "newIndexList = [\"a\",\"b\",\"c\",\"d\"]"
   ]
  },
  {
   "cell_type": "code",
   "execution_count": 90,
   "id": "cd70fd82",
   "metadata": {},
   "outputs": [],
   "source": [
    "newDataFrame[\"yeni index\"] = newIndexList"
   ]
  },
  {
   "cell_type": "code",
   "execution_count": 91,
   "id": "d7d0dff3",
   "metadata": {},
   "outputs": [
    {
     "data": {
      "text/html": [
       "<div>\n",
       "<style scoped>\n",
       "    .dataframe tbody tr th:only-of-type {\n",
       "        vertical-align: middle;\n",
       "    }\n",
       "\n",
       "    .dataframe tbody tr th {\n",
       "        vertical-align: top;\n",
       "    }\n",
       "\n",
       "    .dataframe thead th {\n",
       "        text-align: right;\n",
       "    }\n",
       "</style>\n",
       "<table border=\"1\" class=\"dataframe\">\n",
       "  <thead>\n",
       "    <tr style=\"text-align: right;\">\n",
       "      <th></th>\n",
       "      <th>maas</th>\n",
       "      <th>yas</th>\n",
       "      <th>calısma saatleri</th>\n",
       "      <th>yeni index</th>\n",
       "    </tr>\n",
       "  </thead>\n",
       "  <tbody>\n",
       "    <tr>\n",
       "      <th>aley</th>\n",
       "      <td>0.320108</td>\n",
       "      <td>-0.268975</td>\n",
       "      <td>-0.563479</td>\n",
       "      <td>a</td>\n",
       "    </tr>\n",
       "    <tr>\n",
       "      <th>zeyno</th>\n",
       "      <td>-0.207456</td>\n",
       "      <td>-0.763005</td>\n",
       "      <td>-2.015550</td>\n",
       "      <td>b</td>\n",
       "    </tr>\n",
       "    <tr>\n",
       "      <th>yigit</th>\n",
       "      <td>0.107406</td>\n",
       "      <td>1.863722</td>\n",
       "      <td>0.509319</td>\n",
       "      <td>c</td>\n",
       "    </tr>\n",
       "    <tr>\n",
       "      <th>ali</th>\n",
       "      <td>-1.254392</td>\n",
       "      <td>-0.602843</td>\n",
       "      <td>0.957650</td>\n",
       "      <td>d</td>\n",
       "    </tr>\n",
       "  </tbody>\n",
       "</table>\n",
       "</div>"
      ],
      "text/plain": [
       "           maas       yas  calısma saatleri yeni index\n",
       "aley   0.320108 -0.268975         -0.563479          a\n",
       "zeyno -0.207456 -0.763005         -2.015550          b\n",
       "yigit  0.107406  1.863722          0.509319          c\n",
       "ali   -1.254392 -0.602843          0.957650          d"
      ]
     },
     "execution_count": 91,
     "metadata": {},
     "output_type": "execute_result"
    }
   ],
   "source": [
    "newDataFrame"
   ]
  },
  {
   "cell_type": "code",
   "execution_count": 92,
   "id": "e3c17a0f",
   "metadata": {},
   "outputs": [
    {
     "data": {
      "text/html": [
       "<div>\n",
       "<style scoped>\n",
       "    .dataframe tbody tr th:only-of-type {\n",
       "        vertical-align: middle;\n",
       "    }\n",
       "\n",
       "    .dataframe tbody tr th {\n",
       "        vertical-align: top;\n",
       "    }\n",
       "\n",
       "    .dataframe thead th {\n",
       "        text-align: right;\n",
       "    }\n",
       "</style>\n",
       "<table border=\"1\" class=\"dataframe\">\n",
       "  <thead>\n",
       "    <tr style=\"text-align: right;\">\n",
       "      <th></th>\n",
       "      <th>maas</th>\n",
       "      <th>yas</th>\n",
       "      <th>calısma saatleri</th>\n",
       "    </tr>\n",
       "    <tr>\n",
       "      <th>yeni index</th>\n",
       "      <th></th>\n",
       "      <th></th>\n",
       "      <th></th>\n",
       "    </tr>\n",
       "  </thead>\n",
       "  <tbody>\n",
       "    <tr>\n",
       "      <th>a</th>\n",
       "      <td>0.320108</td>\n",
       "      <td>-0.268975</td>\n",
       "      <td>-0.563479</td>\n",
       "    </tr>\n",
       "    <tr>\n",
       "      <th>b</th>\n",
       "      <td>-0.207456</td>\n",
       "      <td>-0.763005</td>\n",
       "      <td>-2.015550</td>\n",
       "    </tr>\n",
       "    <tr>\n",
       "      <th>c</th>\n",
       "      <td>0.107406</td>\n",
       "      <td>1.863722</td>\n",
       "      <td>0.509319</td>\n",
       "    </tr>\n",
       "    <tr>\n",
       "      <th>d</th>\n",
       "      <td>-1.254392</td>\n",
       "      <td>-0.602843</td>\n",
       "      <td>0.957650</td>\n",
       "    </tr>\n",
       "  </tbody>\n",
       "</table>\n",
       "</div>"
      ],
      "text/plain": [
       "                maas       yas  calısma saatleri\n",
       "yeni index                                      \n",
       "a           0.320108 -0.268975         -0.563479\n",
       "b          -0.207456 -0.763005         -2.015550\n",
       "c           0.107406  1.863722          0.509319\n",
       "d          -1.254392 -0.602843          0.957650"
      ]
     },
     "execution_count": 92,
     "metadata": {},
     "output_type": "execute_result"
    }
   ],
   "source": [
    "newDataFrame.set_index(\"yeni index\")"
   ]
  },
  {
   "cell_type": "code",
   "execution_count": 93,
   "id": "452ffe3f",
   "metadata": {},
   "outputs": [
    {
     "data": {
      "text/html": [
       "<div>\n",
       "<style scoped>\n",
       "    .dataframe tbody tr th:only-of-type {\n",
       "        vertical-align: middle;\n",
       "    }\n",
       "\n",
       "    .dataframe tbody tr th {\n",
       "        vertical-align: top;\n",
       "    }\n",
       "\n",
       "    .dataframe thead th {\n",
       "        text-align: right;\n",
       "    }\n",
       "</style>\n",
       "<table border=\"1\" class=\"dataframe\">\n",
       "  <thead>\n",
       "    <tr style=\"text-align: right;\">\n",
       "      <th></th>\n",
       "      <th>maas</th>\n",
       "      <th>yas</th>\n",
       "      <th>calısma saatleri</th>\n",
       "      <th>yeni index</th>\n",
       "    </tr>\n",
       "  </thead>\n",
       "  <tbody>\n",
       "    <tr>\n",
       "      <th>aley</th>\n",
       "      <td>0.320108</td>\n",
       "      <td>-0.268975</td>\n",
       "      <td>-0.563479</td>\n",
       "      <td>a</td>\n",
       "    </tr>\n",
       "    <tr>\n",
       "      <th>zeyno</th>\n",
       "      <td>-0.207456</td>\n",
       "      <td>-0.763005</td>\n",
       "      <td>-2.015550</td>\n",
       "      <td>b</td>\n",
       "    </tr>\n",
       "    <tr>\n",
       "      <th>yigit</th>\n",
       "      <td>0.107406</td>\n",
       "      <td>1.863722</td>\n",
       "      <td>0.509319</td>\n",
       "      <td>c</td>\n",
       "    </tr>\n",
       "    <tr>\n",
       "      <th>ali</th>\n",
       "      <td>-1.254392</td>\n",
       "      <td>-0.602843</td>\n",
       "      <td>0.957650</td>\n",
       "      <td>d</td>\n",
       "    </tr>\n",
       "  </tbody>\n",
       "</table>\n",
       "</div>"
      ],
      "text/plain": [
       "           maas       yas  calısma saatleri yeni index\n",
       "aley   0.320108 -0.268975         -0.563479          a\n",
       "zeyno -0.207456 -0.763005         -2.015550          b\n",
       "yigit  0.107406  1.863722          0.509319          c\n",
       "ali   -1.254392 -0.602843          0.957650          d"
      ]
     },
     "execution_count": 93,
     "metadata": {},
     "output_type": "execute_result"
    }
   ],
   "source": [
    "newDataFrame"
   ]
  },
  {
   "cell_type": "code",
   "execution_count": 94,
   "id": "00fb8a3e",
   "metadata": {},
   "outputs": [],
   "source": [
    "newDataFrame.set_index(\"yeni index\",inplace = True)"
   ]
  },
  {
   "cell_type": "code",
   "execution_count": 95,
   "id": "021baf81",
   "metadata": {},
   "outputs": [
    {
     "data": {
      "text/html": [
       "<div>\n",
       "<style scoped>\n",
       "    .dataframe tbody tr th:only-of-type {\n",
       "        vertical-align: middle;\n",
       "    }\n",
       "\n",
       "    .dataframe tbody tr th {\n",
       "        vertical-align: top;\n",
       "    }\n",
       "\n",
       "    .dataframe thead th {\n",
       "        text-align: right;\n",
       "    }\n",
       "</style>\n",
       "<table border=\"1\" class=\"dataframe\">\n",
       "  <thead>\n",
       "    <tr style=\"text-align: right;\">\n",
       "      <th></th>\n",
       "      <th>maas</th>\n",
       "      <th>yas</th>\n",
       "      <th>calısma saatleri</th>\n",
       "    </tr>\n",
       "    <tr>\n",
       "      <th>yeni index</th>\n",
       "      <th></th>\n",
       "      <th></th>\n",
       "      <th></th>\n",
       "    </tr>\n",
       "  </thead>\n",
       "  <tbody>\n",
       "    <tr>\n",
       "      <th>a</th>\n",
       "      <td>0.320108</td>\n",
       "      <td>-0.268975</td>\n",
       "      <td>-0.563479</td>\n",
       "    </tr>\n",
       "    <tr>\n",
       "      <th>b</th>\n",
       "      <td>-0.207456</td>\n",
       "      <td>-0.763005</td>\n",
       "      <td>-2.015550</td>\n",
       "    </tr>\n",
       "    <tr>\n",
       "      <th>c</th>\n",
       "      <td>0.107406</td>\n",
       "      <td>1.863722</td>\n",
       "      <td>0.509319</td>\n",
       "    </tr>\n",
       "    <tr>\n",
       "      <th>d</th>\n",
       "      <td>-1.254392</td>\n",
       "      <td>-0.602843</td>\n",
       "      <td>0.957650</td>\n",
       "    </tr>\n",
       "  </tbody>\n",
       "</table>\n",
       "</div>"
      ],
      "text/plain": [
       "                maas       yas  calısma saatleri\n",
       "yeni index                                      \n",
       "a           0.320108 -0.268975         -0.563479\n",
       "b          -0.207456 -0.763005         -2.015550\n",
       "c           0.107406  1.863722          0.509319\n",
       "d          -1.254392 -0.602843          0.957650"
      ]
     },
     "execution_count": 95,
     "metadata": {},
     "output_type": "execute_result"
    }
   ],
   "source": [
    "newDataFrame"
   ]
  },
  {
   "cell_type": "code",
   "execution_count": 96,
   "id": "b7d63b0d",
   "metadata": {},
   "outputs": [
    {
     "data": {
      "text/plain": [
       "maas               -0.207456\n",
       "yas                -0.763005\n",
       "calısma saatleri   -2.015550\n",
       "Name: b, dtype: float64"
      ]
     },
     "execution_count": 96,
     "metadata": {},
     "output_type": "execute_result"
    }
   ],
   "source": [
    "newDataFrame.loc[\"b\"]"
   ]
  },
  {
   "cell_type": "code",
   "execution_count": 97,
   "id": "ce41fa2e",
   "metadata": {},
   "outputs": [],
   "source": [
    "# .reset_index() ve .set_index() kavramları önemli"
   ]
  },
  {
   "cell_type": "markdown",
   "id": "32208519",
   "metadata": {},
   "source": [
    "# multi index"
   ]
  },
  {
   "cell_type": "code",
   "execution_count": 98,
   "id": "94ba32b9",
   "metadata": {},
   "outputs": [],
   "source": [
    "firstIndex = [\"Simpson\",\"Simpson\",\"Simpson\",\"South Park\", \"South Park\",\"South Park\"]"
   ]
  },
  {
   "cell_type": "code",
   "execution_count": 99,
   "id": "0d121503",
   "metadata": {},
   "outputs": [],
   "source": [
    "secondIndex = [\"Homer\",\"Bart\",\"Marge\",\"Cartman\",\"Kenny\",\"Kyle\"]"
   ]
  },
  {
   "cell_type": "code",
   "execution_count": 100,
   "id": "b5d89f72",
   "metadata": {},
   "outputs": [],
   "source": [
    "birlesmisIndex = list(zip(firstIndex,secondIndex))"
   ]
  },
  {
   "cell_type": "code",
   "execution_count": 101,
   "id": "1536979f",
   "metadata": {},
   "outputs": [
    {
     "data": {
      "text/plain": [
       "[('Simpson', 'Homer'),\n",
       " ('Simpson', 'Bart'),\n",
       " ('Simpson', 'Marge'),\n",
       " ('South Park', 'Cartman'),\n",
       " ('South Park', 'Kenny'),\n",
       " ('South Park', 'Kyle')]"
      ]
     },
     "execution_count": 101,
     "metadata": {},
     "output_type": "execute_result"
    }
   ],
   "source": [
    "birlesmisIndex"
   ]
  },
  {
   "cell_type": "code",
   "execution_count": 102,
   "id": "39087086",
   "metadata": {},
   "outputs": [],
   "source": [
    "birlesmisIndex = pd.MultiIndex.from_tuples(birlesmisIndex)"
   ]
  },
  {
   "cell_type": "code",
   "execution_count": 103,
   "id": "6eec0df0",
   "metadata": {
    "scrolled": true
   },
   "outputs": [
    {
     "data": {
      "text/plain": [
       "MultiIndex([(   'Simpson',   'Homer'),\n",
       "            (   'Simpson',    'Bart'),\n",
       "            (   'Simpson',   'Marge'),\n",
       "            ('South Park', 'Cartman'),\n",
       "            ('South Park',   'Kenny'),\n",
       "            ('South Park',    'Kyle')],\n",
       "           )"
      ]
     },
     "execution_count": 103,
     "metadata": {},
     "output_type": "execute_result"
    }
   ],
   "source": [
    "birlesmisIndex"
   ]
  },
  {
   "cell_type": "code",
   "execution_count": 104,
   "id": "b5badbe7",
   "metadata": {},
   "outputs": [
    {
     "data": {
      "text/plain": [
       "pandas.core.indexes.multi.MultiIndex"
      ]
     },
     "execution_count": 104,
     "metadata": {},
     "output_type": "execute_result"
    }
   ],
   "source": [
    "type(birlesmisIndex)"
   ]
  },
  {
   "cell_type": "code",
   "execution_count": 105,
   "id": "6cfd7a34",
   "metadata": {},
   "outputs": [],
   "source": [
    "myCartoonList = [[40,\"a\"],[10,\"b\"],[30,\"c\"],[9,\"d\"],[10,\"e\"],[11,\"f\"]]"
   ]
  },
  {
   "cell_type": "code",
   "execution_count": 106,
   "id": "5fe3b9fd",
   "metadata": {},
   "outputs": [],
   "source": [
    "myCartoonListNumpy = np.array(myCartoonList)"
   ]
  },
  {
   "cell_type": "code",
   "execution_count": 107,
   "id": "f23d45e8",
   "metadata": {},
   "outputs": [],
   "source": [
    "myCartoonListDataFrame = pd.DataFrame(myCartoonListNumpy,index = birlesmisIndex,columns = [\"yas\",\"meslek\"])"
   ]
  },
  {
   "cell_type": "code",
   "execution_count": 108,
   "id": "ab621860",
   "metadata": {},
   "outputs": [
    {
     "data": {
      "text/html": [
       "<div>\n",
       "<style scoped>\n",
       "    .dataframe tbody tr th:only-of-type {\n",
       "        vertical-align: middle;\n",
       "    }\n",
       "\n",
       "    .dataframe tbody tr th {\n",
       "        vertical-align: top;\n",
       "    }\n",
       "\n",
       "    .dataframe thead th {\n",
       "        text-align: right;\n",
       "    }\n",
       "</style>\n",
       "<table border=\"1\" class=\"dataframe\">\n",
       "  <thead>\n",
       "    <tr style=\"text-align: right;\">\n",
       "      <th></th>\n",
       "      <th></th>\n",
       "      <th>yas</th>\n",
       "      <th>meslek</th>\n",
       "    </tr>\n",
       "  </thead>\n",
       "  <tbody>\n",
       "    <tr>\n",
       "      <th rowspan=\"3\" valign=\"top\">Simpson</th>\n",
       "      <th>Homer</th>\n",
       "      <td>40</td>\n",
       "      <td>a</td>\n",
       "    </tr>\n",
       "    <tr>\n",
       "      <th>Bart</th>\n",
       "      <td>10</td>\n",
       "      <td>b</td>\n",
       "    </tr>\n",
       "    <tr>\n",
       "      <th>Marge</th>\n",
       "      <td>30</td>\n",
       "      <td>c</td>\n",
       "    </tr>\n",
       "    <tr>\n",
       "      <th rowspan=\"3\" valign=\"top\">South Park</th>\n",
       "      <th>Cartman</th>\n",
       "      <td>9</td>\n",
       "      <td>d</td>\n",
       "    </tr>\n",
       "    <tr>\n",
       "      <th>Kenny</th>\n",
       "      <td>10</td>\n",
       "      <td>e</td>\n",
       "    </tr>\n",
       "    <tr>\n",
       "      <th>Kyle</th>\n",
       "      <td>11</td>\n",
       "      <td>f</td>\n",
       "    </tr>\n",
       "  </tbody>\n",
       "</table>\n",
       "</div>"
      ],
      "text/plain": [
       "                   yas meslek\n",
       "Simpson    Homer    40      a\n",
       "           Bart     10      b\n",
       "           Marge    30      c\n",
       "South Park Cartman   9      d\n",
       "           Kenny    10      e\n",
       "           Kyle     11      f"
      ]
     },
     "execution_count": 108,
     "metadata": {},
     "output_type": "execute_result"
    }
   ],
   "source": [
    "myCartoonListDataFrame"
   ]
  },
  {
   "cell_type": "code",
   "execution_count": 109,
   "id": "f3ec9000",
   "metadata": {},
   "outputs": [
    {
     "data": {
      "text/html": [
       "<div>\n",
       "<style scoped>\n",
       "    .dataframe tbody tr th:only-of-type {\n",
       "        vertical-align: middle;\n",
       "    }\n",
       "\n",
       "    .dataframe tbody tr th {\n",
       "        vertical-align: top;\n",
       "    }\n",
       "\n",
       "    .dataframe thead th {\n",
       "        text-align: right;\n",
       "    }\n",
       "</style>\n",
       "<table border=\"1\" class=\"dataframe\">\n",
       "  <thead>\n",
       "    <tr style=\"text-align: right;\">\n",
       "      <th></th>\n",
       "      <th>yas</th>\n",
       "      <th>meslek</th>\n",
       "    </tr>\n",
       "  </thead>\n",
       "  <tbody>\n",
       "    <tr>\n",
       "      <th>Homer</th>\n",
       "      <td>40</td>\n",
       "      <td>a</td>\n",
       "    </tr>\n",
       "    <tr>\n",
       "      <th>Bart</th>\n",
       "      <td>10</td>\n",
       "      <td>b</td>\n",
       "    </tr>\n",
       "    <tr>\n",
       "      <th>Marge</th>\n",
       "      <td>30</td>\n",
       "      <td>c</td>\n",
       "    </tr>\n",
       "  </tbody>\n",
       "</table>\n",
       "</div>"
      ],
      "text/plain": [
       "      yas meslek\n",
       "Homer  40      a\n",
       "Bart   10      b\n",
       "Marge  30      c"
      ]
     },
     "execution_count": 109,
     "metadata": {},
     "output_type": "execute_result"
    }
   ],
   "source": [
    "myCartoonListDataFrame.loc[\"Simpson\"]"
   ]
  },
  {
   "cell_type": "code",
   "execution_count": 110,
   "id": "003c2ba7",
   "metadata": {},
   "outputs": [
    {
     "data": {
      "text/html": [
       "<div>\n",
       "<style scoped>\n",
       "    .dataframe tbody tr th:only-of-type {\n",
       "        vertical-align: middle;\n",
       "    }\n",
       "\n",
       "    .dataframe tbody tr th {\n",
       "        vertical-align: top;\n",
       "    }\n",
       "\n",
       "    .dataframe thead th {\n",
       "        text-align: right;\n",
       "    }\n",
       "</style>\n",
       "<table border=\"1\" class=\"dataframe\">\n",
       "  <thead>\n",
       "    <tr style=\"text-align: right;\">\n",
       "      <th></th>\n",
       "      <th>yas</th>\n",
       "      <th>meslek</th>\n",
       "    </tr>\n",
       "  </thead>\n",
       "  <tbody>\n",
       "    <tr>\n",
       "      <th>Cartman</th>\n",
       "      <td>9</td>\n",
       "      <td>d</td>\n",
       "    </tr>\n",
       "    <tr>\n",
       "      <th>Kenny</th>\n",
       "      <td>10</td>\n",
       "      <td>e</td>\n",
       "    </tr>\n",
       "    <tr>\n",
       "      <th>Kyle</th>\n",
       "      <td>11</td>\n",
       "      <td>f</td>\n",
       "    </tr>\n",
       "  </tbody>\n",
       "</table>\n",
       "</div>"
      ],
      "text/plain": [
       "        yas meslek\n",
       "Cartman   9      d\n",
       "Kenny    10      e\n",
       "Kyle     11      f"
      ]
     },
     "execution_count": 110,
     "metadata": {},
     "output_type": "execute_result"
    }
   ],
   "source": [
    "myCartoonListDataFrame.loc[\"South Park\"]"
   ]
  },
  {
   "cell_type": "code",
   "execution_count": 111,
   "id": "2d594f70",
   "metadata": {},
   "outputs": [
    {
     "data": {
      "text/plain": [
       "yas       10\n",
       "meslek     e\n",
       "Name: Kenny, dtype: object"
      ]
     },
     "execution_count": 111,
     "metadata": {},
     "output_type": "execute_result"
    }
   ],
   "source": [
    "myCartoonListDataFrame.loc[\"South Park\"].loc[\"Kenny\"]"
   ]
  },
  {
   "cell_type": "code",
   "execution_count": 112,
   "id": "cf35d744",
   "metadata": {},
   "outputs": [],
   "source": [
    "myCartoonListDataFrame.index.names = [\"film adı\",\"isim\"]"
   ]
  },
  {
   "cell_type": "code",
   "execution_count": 113,
   "id": "c22f9ff5",
   "metadata": {},
   "outputs": [
    {
     "data": {
      "text/html": [
       "<div>\n",
       "<style scoped>\n",
       "    .dataframe tbody tr th:only-of-type {\n",
       "        vertical-align: middle;\n",
       "    }\n",
       "\n",
       "    .dataframe tbody tr th {\n",
       "        vertical-align: top;\n",
       "    }\n",
       "\n",
       "    .dataframe thead th {\n",
       "        text-align: right;\n",
       "    }\n",
       "</style>\n",
       "<table border=\"1\" class=\"dataframe\">\n",
       "  <thead>\n",
       "    <tr style=\"text-align: right;\">\n",
       "      <th></th>\n",
       "      <th></th>\n",
       "      <th>yas</th>\n",
       "      <th>meslek</th>\n",
       "    </tr>\n",
       "    <tr>\n",
       "      <th>film adı</th>\n",
       "      <th>isim</th>\n",
       "      <th></th>\n",
       "      <th></th>\n",
       "    </tr>\n",
       "  </thead>\n",
       "  <tbody>\n",
       "    <tr>\n",
       "      <th rowspan=\"3\" valign=\"top\">Simpson</th>\n",
       "      <th>Homer</th>\n",
       "      <td>40</td>\n",
       "      <td>a</td>\n",
       "    </tr>\n",
       "    <tr>\n",
       "      <th>Bart</th>\n",
       "      <td>10</td>\n",
       "      <td>b</td>\n",
       "    </tr>\n",
       "    <tr>\n",
       "      <th>Marge</th>\n",
       "      <td>30</td>\n",
       "      <td>c</td>\n",
       "    </tr>\n",
       "    <tr>\n",
       "      <th rowspan=\"3\" valign=\"top\">South Park</th>\n",
       "      <th>Cartman</th>\n",
       "      <td>9</td>\n",
       "      <td>d</td>\n",
       "    </tr>\n",
       "    <tr>\n",
       "      <th>Kenny</th>\n",
       "      <td>10</td>\n",
       "      <td>e</td>\n",
       "    </tr>\n",
       "    <tr>\n",
       "      <th>Kyle</th>\n",
       "      <td>11</td>\n",
       "      <td>f</td>\n",
       "    </tr>\n",
       "  </tbody>\n",
       "</table>\n",
       "</div>"
      ],
      "text/plain": [
       "                   yas meslek\n",
       "film adı   isim              \n",
       "Simpson    Homer    40      a\n",
       "           Bart     10      b\n",
       "           Marge    30      c\n",
       "South Park Cartman   9      d\n",
       "           Kenny    10      e\n",
       "           Kyle     11      f"
      ]
     },
     "execution_count": 113,
     "metadata": {},
     "output_type": "execute_result"
    }
   ],
   "source": [
    "myCartoonListDataFrame"
   ]
  },
  {
   "cell_type": "markdown",
   "id": "d2bef40c",
   "metadata": {},
   "source": [
    "# Operasyonlar\n"
   ]
  },
  {
   "cell_type": "markdown",
   "id": "2f593edf",
   "metadata": {},
   "source": [
    "# eksik veriler"
   ]
  },
  {
   "cell_type": "code",
   "execution_count": 115,
   "id": "160afe09",
   "metadata": {},
   "outputs": [],
   "source": [
    "veriler = {\"ist\": [30,29,np.nan], \"ank\":[20,np.nan,25], \"izm\":[40,39,28]}\n",
    "havaDurumuDataFrame = pd.DataFrame(veriler)"
   ]
  },
  {
   "cell_type": "code",
   "execution_count": 116,
   "id": "79ee4156",
   "metadata": {},
   "outputs": [
    {
     "data": {
      "text/html": [
       "<div>\n",
       "<style scoped>\n",
       "    .dataframe tbody tr th:only-of-type {\n",
       "        vertical-align: middle;\n",
       "    }\n",
       "\n",
       "    .dataframe tbody tr th {\n",
       "        vertical-align: top;\n",
       "    }\n",
       "\n",
       "    .dataframe thead th {\n",
       "        text-align: right;\n",
       "    }\n",
       "</style>\n",
       "<table border=\"1\" class=\"dataframe\">\n",
       "  <thead>\n",
       "    <tr style=\"text-align: right;\">\n",
       "      <th></th>\n",
       "      <th>ist</th>\n",
       "      <th>ank</th>\n",
       "      <th>izm</th>\n",
       "    </tr>\n",
       "  </thead>\n",
       "  <tbody>\n",
       "    <tr>\n",
       "      <th>0</th>\n",
       "      <td>30.0</td>\n",
       "      <td>20.0</td>\n",
       "      <td>40</td>\n",
       "    </tr>\n",
       "    <tr>\n",
       "      <th>1</th>\n",
       "      <td>29.0</td>\n",
       "      <td>NaN</td>\n",
       "      <td>39</td>\n",
       "    </tr>\n",
       "    <tr>\n",
       "      <th>2</th>\n",
       "      <td>NaN</td>\n",
       "      <td>25.0</td>\n",
       "      <td>28</td>\n",
       "    </tr>\n",
       "  </tbody>\n",
       "</table>\n",
       "</div>"
      ],
      "text/plain": [
       "    ist   ank  izm\n",
       "0  30.0  20.0   40\n",
       "1  29.0   NaN   39\n",
       "2   NaN  25.0   28"
      ]
     },
     "execution_count": 116,
     "metadata": {},
     "output_type": "execute_result"
    }
   ],
   "source": [
    "havaDurumuDataFrame"
   ]
  },
  {
   "cell_type": "code",
   "execution_count": 117,
   "id": "574fe534",
   "metadata": {},
   "outputs": [],
   "source": [
    "# olmayan verileri silmeye calısmak> "
   ]
  },
  {
   "cell_type": "code",
   "execution_count": 118,
   "id": "7c05613d",
   "metadata": {},
   "outputs": [
    {
     "data": {
      "text/html": [
       "<div>\n",
       "<style scoped>\n",
       "    .dataframe tbody tr th:only-of-type {\n",
       "        vertical-align: middle;\n",
       "    }\n",
       "\n",
       "    .dataframe tbody tr th {\n",
       "        vertical-align: top;\n",
       "    }\n",
       "\n",
       "    .dataframe thead th {\n",
       "        text-align: right;\n",
       "    }\n",
       "</style>\n",
       "<table border=\"1\" class=\"dataframe\">\n",
       "  <thead>\n",
       "    <tr style=\"text-align: right;\">\n",
       "      <th></th>\n",
       "      <th>ist</th>\n",
       "      <th>ank</th>\n",
       "      <th>izm</th>\n",
       "    </tr>\n",
       "  </thead>\n",
       "  <tbody>\n",
       "    <tr>\n",
       "      <th>0</th>\n",
       "      <td>30.0</td>\n",
       "      <td>20.0</td>\n",
       "      <td>40</td>\n",
       "    </tr>\n",
       "  </tbody>\n",
       "</table>\n",
       "</div>"
      ],
      "text/plain": [
       "    ist   ank  izm\n",
       "0  30.0  20.0   40"
      ]
     },
     "execution_count": 118,
     "metadata": {},
     "output_type": "execute_result"
    }
   ],
   "source": [
    "havaDurumuDataFrame.dropna()"
   ]
  },
  {
   "cell_type": "code",
   "execution_count": 119,
   "id": "42a4fad5",
   "metadata": {},
   "outputs": [],
   "source": [
    "# nan olan satırların hepsini çıkardı"
   ]
  },
  {
   "cell_type": "code",
   "execution_count": 120,
   "id": "829d3ed5",
   "metadata": {},
   "outputs": [
    {
     "data": {
      "text/html": [
       "<div>\n",
       "<style scoped>\n",
       "    .dataframe tbody tr th:only-of-type {\n",
       "        vertical-align: middle;\n",
       "    }\n",
       "\n",
       "    .dataframe tbody tr th {\n",
       "        vertical-align: top;\n",
       "    }\n",
       "\n",
       "    .dataframe thead th {\n",
       "        text-align: right;\n",
       "    }\n",
       "</style>\n",
       "<table border=\"1\" class=\"dataframe\">\n",
       "  <thead>\n",
       "    <tr style=\"text-align: right;\">\n",
       "      <th></th>\n",
       "      <th>ist</th>\n",
       "      <th>ank</th>\n",
       "      <th>izm</th>\n",
       "    </tr>\n",
       "  </thead>\n",
       "  <tbody>\n",
       "    <tr>\n",
       "      <th>0</th>\n",
       "      <td>30.0</td>\n",
       "      <td>20.0</td>\n",
       "      <td>40</td>\n",
       "    </tr>\n",
       "    <tr>\n",
       "      <th>1</th>\n",
       "      <td>29.0</td>\n",
       "      <td>NaN</td>\n",
       "      <td>39</td>\n",
       "    </tr>\n",
       "    <tr>\n",
       "      <th>2</th>\n",
       "      <td>NaN</td>\n",
       "      <td>25.0</td>\n",
       "      <td>28</td>\n",
       "    </tr>\n",
       "  </tbody>\n",
       "</table>\n",
       "</div>"
      ],
      "text/plain": [
       "    ist   ank  izm\n",
       "0  30.0  20.0   40\n",
       "1  29.0   NaN   39\n",
       "2   NaN  25.0   28"
      ]
     },
     "execution_count": 120,
     "metadata": {},
     "output_type": "execute_result"
    }
   ],
   "source": [
    "havaDurumuDataFrame"
   ]
  },
  {
   "cell_type": "code",
   "execution_count": 121,
   "id": "89a92e21",
   "metadata": {},
   "outputs": [
    {
     "data": {
      "text/html": [
       "<div>\n",
       "<style scoped>\n",
       "    .dataframe tbody tr th:only-of-type {\n",
       "        vertical-align: middle;\n",
       "    }\n",
       "\n",
       "    .dataframe tbody tr th {\n",
       "        vertical-align: top;\n",
       "    }\n",
       "\n",
       "    .dataframe thead th {\n",
       "        text-align: right;\n",
       "    }\n",
       "</style>\n",
       "<table border=\"1\" class=\"dataframe\">\n",
       "  <thead>\n",
       "    <tr style=\"text-align: right;\">\n",
       "      <th></th>\n",
       "      <th>izm</th>\n",
       "    </tr>\n",
       "  </thead>\n",
       "  <tbody>\n",
       "    <tr>\n",
       "      <th>0</th>\n",
       "      <td>40</td>\n",
       "    </tr>\n",
       "    <tr>\n",
       "      <th>1</th>\n",
       "      <td>39</td>\n",
       "    </tr>\n",
       "    <tr>\n",
       "      <th>2</th>\n",
       "      <td>28</td>\n",
       "    </tr>\n",
       "  </tbody>\n",
       "</table>\n",
       "</div>"
      ],
      "text/plain": [
       "   izm\n",
       "0   40\n",
       "1   39\n",
       "2   28"
      ]
     },
     "execution_count": 121,
     "metadata": {},
     "output_type": "execute_result"
    }
   ],
   "source": [
    "havaDurumuDataFrame.dropna(axis=1)"
   ]
  },
  {
   "cell_type": "code",
   "execution_count": 122,
   "id": "ce202dd3",
   "metadata": {},
   "outputs": [],
   "source": [
    "#nan olmayan tek kolonu getirdi"
   ]
  },
  {
   "cell_type": "code",
   "execution_count": 123,
   "id": "798359f6",
   "metadata": {},
   "outputs": [],
   "source": [
    "yeniVeriler = {\"ist\": [30,29,np.nan], \"ank\":[20,np.nan,25], \"izm\":[40,39,28],\"ant\":[45,np.nan,np.nan]}\n",
    "yeniDataFrame = pd.DataFrame(yeniVeriler)"
   ]
  },
  {
   "cell_type": "code",
   "execution_count": 124,
   "id": "e8c66657",
   "metadata": {},
   "outputs": [
    {
     "data": {
      "text/html": [
       "<div>\n",
       "<style scoped>\n",
       "    .dataframe tbody tr th:only-of-type {\n",
       "        vertical-align: middle;\n",
       "    }\n",
       "\n",
       "    .dataframe tbody tr th {\n",
       "        vertical-align: top;\n",
       "    }\n",
       "\n",
       "    .dataframe thead th {\n",
       "        text-align: right;\n",
       "    }\n",
       "</style>\n",
       "<table border=\"1\" class=\"dataframe\">\n",
       "  <thead>\n",
       "    <tr style=\"text-align: right;\">\n",
       "      <th></th>\n",
       "      <th>ist</th>\n",
       "      <th>ank</th>\n",
       "      <th>izm</th>\n",
       "      <th>ant</th>\n",
       "    </tr>\n",
       "  </thead>\n",
       "  <tbody>\n",
       "    <tr>\n",
       "      <th>0</th>\n",
       "      <td>30.0</td>\n",
       "      <td>20.0</td>\n",
       "      <td>40</td>\n",
       "      <td>45.0</td>\n",
       "    </tr>\n",
       "    <tr>\n",
       "      <th>1</th>\n",
       "      <td>29.0</td>\n",
       "      <td>NaN</td>\n",
       "      <td>39</td>\n",
       "      <td>NaN</td>\n",
       "    </tr>\n",
       "    <tr>\n",
       "      <th>2</th>\n",
       "      <td>NaN</td>\n",
       "      <td>25.0</td>\n",
       "      <td>28</td>\n",
       "      <td>NaN</td>\n",
       "    </tr>\n",
       "  </tbody>\n",
       "</table>\n",
       "</div>"
      ],
      "text/plain": [
       "    ist   ank  izm   ant\n",
       "0  30.0  20.0   40  45.0\n",
       "1  29.0   NaN   39   NaN\n",
       "2   NaN  25.0   28   NaN"
      ]
     },
     "execution_count": 124,
     "metadata": {},
     "output_type": "execute_result"
    }
   ],
   "source": [
    "yeniDataFrame"
   ]
  },
  {
   "cell_type": "code",
   "execution_count": 125,
   "id": "4f857a71",
   "metadata": {},
   "outputs": [],
   "source": [
    "# iki nan olanı drop et, tek nan olanı drop etme > thresh"
   ]
  },
  {
   "cell_type": "code",
   "execution_count": 126,
   "id": "0d4d5b4d",
   "metadata": {},
   "outputs": [
    {
     "data": {
      "text/html": [
       "<div>\n",
       "<style scoped>\n",
       "    .dataframe tbody tr th:only-of-type {\n",
       "        vertical-align: middle;\n",
       "    }\n",
       "\n",
       "    .dataframe tbody tr th {\n",
       "        vertical-align: top;\n",
       "    }\n",
       "\n",
       "    .dataframe thead th {\n",
       "        text-align: right;\n",
       "    }\n",
       "</style>\n",
       "<table border=\"1\" class=\"dataframe\">\n",
       "  <thead>\n",
       "    <tr style=\"text-align: right;\">\n",
       "      <th></th>\n",
       "      <th>ist</th>\n",
       "      <th>ank</th>\n",
       "      <th>izm</th>\n",
       "    </tr>\n",
       "  </thead>\n",
       "  <tbody>\n",
       "    <tr>\n",
       "      <th>0</th>\n",
       "      <td>30.0</td>\n",
       "      <td>20.0</td>\n",
       "      <td>40</td>\n",
       "    </tr>\n",
       "    <tr>\n",
       "      <th>1</th>\n",
       "      <td>29.0</td>\n",
       "      <td>NaN</td>\n",
       "      <td>39</td>\n",
       "    </tr>\n",
       "    <tr>\n",
       "      <th>2</th>\n",
       "      <td>NaN</td>\n",
       "      <td>25.0</td>\n",
       "      <td>28</td>\n",
       "    </tr>\n",
       "  </tbody>\n",
       "</table>\n",
       "</div>"
      ],
      "text/plain": [
       "    ist   ank  izm\n",
       "0  30.0  20.0   40\n",
       "1  29.0   NaN   39\n",
       "2   NaN  25.0   28"
      ]
     },
     "execution_count": 126,
     "metadata": {},
     "output_type": "execute_result"
    }
   ],
   "source": [
    "yeniDataFrame.dropna(axis=1,thresh=2)"
   ]
  },
  {
   "cell_type": "code",
   "execution_count": 127,
   "id": "7c4a7a2e",
   "metadata": {},
   "outputs": [],
   "source": [
    "#2 veya daha fazla olanı attı"
   ]
  },
  {
   "cell_type": "code",
   "execution_count": 128,
   "id": "3071e177",
   "metadata": {},
   "outputs": [],
   "source": [
    "#boş verileri doldurmak> .fillna()"
   ]
  },
  {
   "cell_type": "code",
   "execution_count": 129,
   "id": "36f32d23",
   "metadata": {},
   "outputs": [
    {
     "data": {
      "text/html": [
       "<div>\n",
       "<style scoped>\n",
       "    .dataframe tbody tr th:only-of-type {\n",
       "        vertical-align: middle;\n",
       "    }\n",
       "\n",
       "    .dataframe tbody tr th {\n",
       "        vertical-align: top;\n",
       "    }\n",
       "\n",
       "    .dataframe thead th {\n",
       "        text-align: right;\n",
       "    }\n",
       "</style>\n",
       "<table border=\"1\" class=\"dataframe\">\n",
       "  <thead>\n",
       "    <tr style=\"text-align: right;\">\n",
       "      <th></th>\n",
       "      <th>ist</th>\n",
       "      <th>ank</th>\n",
       "      <th>izm</th>\n",
       "      <th>ant</th>\n",
       "    </tr>\n",
       "  </thead>\n",
       "  <tbody>\n",
       "    <tr>\n",
       "      <th>0</th>\n",
       "      <td>30.0</td>\n",
       "      <td>20.0</td>\n",
       "      <td>40</td>\n",
       "      <td>45.0</td>\n",
       "    </tr>\n",
       "    <tr>\n",
       "      <th>1</th>\n",
       "      <td>29.0</td>\n",
       "      <td>NaN</td>\n",
       "      <td>39</td>\n",
       "      <td>NaN</td>\n",
       "    </tr>\n",
       "    <tr>\n",
       "      <th>2</th>\n",
       "      <td>NaN</td>\n",
       "      <td>25.0</td>\n",
       "      <td>28</td>\n",
       "      <td>NaN</td>\n",
       "    </tr>\n",
       "  </tbody>\n",
       "</table>\n",
       "</div>"
      ],
      "text/plain": [
       "    ist   ank  izm   ant\n",
       "0  30.0  20.0   40  45.0\n",
       "1  29.0   NaN   39   NaN\n",
       "2   NaN  25.0   28   NaN"
      ]
     },
     "execution_count": 129,
     "metadata": {},
     "output_type": "execute_result"
    }
   ],
   "source": [
    "yeniDataFrame"
   ]
  },
  {
   "cell_type": "code",
   "execution_count": 130,
   "id": "ebeda2f7",
   "metadata": {},
   "outputs": [
    {
     "data": {
      "text/html": [
       "<div>\n",
       "<style scoped>\n",
       "    .dataframe tbody tr th:only-of-type {\n",
       "        vertical-align: middle;\n",
       "    }\n",
       "\n",
       "    .dataframe tbody tr th {\n",
       "        vertical-align: top;\n",
       "    }\n",
       "\n",
       "    .dataframe thead th {\n",
       "        text-align: right;\n",
       "    }\n",
       "</style>\n",
       "<table border=\"1\" class=\"dataframe\">\n",
       "  <thead>\n",
       "    <tr style=\"text-align: right;\">\n",
       "      <th></th>\n",
       "      <th>ist</th>\n",
       "      <th>ank</th>\n",
       "      <th>izm</th>\n",
       "      <th>ant</th>\n",
       "    </tr>\n",
       "  </thead>\n",
       "  <tbody>\n",
       "    <tr>\n",
       "      <th>0</th>\n",
       "      <td>30.0</td>\n",
       "      <td>20.0</td>\n",
       "      <td>40</td>\n",
       "      <td>45.0</td>\n",
       "    </tr>\n",
       "    <tr>\n",
       "      <th>1</th>\n",
       "      <td>29.0</td>\n",
       "      <td>20.0</td>\n",
       "      <td>39</td>\n",
       "      <td>20.0</td>\n",
       "    </tr>\n",
       "    <tr>\n",
       "      <th>2</th>\n",
       "      <td>20.0</td>\n",
       "      <td>25.0</td>\n",
       "      <td>28</td>\n",
       "      <td>20.0</td>\n",
       "    </tr>\n",
       "  </tbody>\n",
       "</table>\n",
       "</div>"
      ],
      "text/plain": [
       "    ist   ank  izm   ant\n",
       "0  30.0  20.0   40  45.0\n",
       "1  29.0  20.0   39  20.0\n",
       "2  20.0  25.0   28  20.0"
      ]
     },
     "execution_count": 130,
     "metadata": {},
     "output_type": "execute_result"
    }
   ],
   "source": [
    "yeniDataFrame.fillna(20)"
   ]
  },
  {
   "cell_type": "markdown",
   "id": "9e6f3ce1",
   "metadata": {},
   "source": [
    "# gruplandırma / groupby"
   ]
  },
  {
   "cell_type": "code",
   "execution_count": 132,
   "id": "c5953ca3",
   "metadata": {},
   "outputs": [],
   "source": [
    "#multi index olmadan kolondan gruplandırma yapabiliriz"
   ]
  },
  {
   "cell_type": "code",
   "execution_count": 137,
   "id": "ac7f2c45",
   "metadata": {},
   "outputs": [],
   "source": [
    "maaslar = {\"departman\" : [\"yazılım\",\"yazılım\",\"pazarlama\",\"pazarlama\",\"ik\",\"ik\"],\n",
    "          \"calısanlar\" : [\"aley\",\"ali\",\"veli\",\"osman\",\"zeynep\",\"ayse\"],\n",
    "          \"maas\" : [100,150,200,250,300,350]}"
   ]
  },
  {
   "cell_type": "code",
   "execution_count": 138,
   "id": "8c7d8152",
   "metadata": {},
   "outputs": [],
   "source": [
    "maasDataFrame = pd.DataFrame(maaslar)"
   ]
  },
  {
   "cell_type": "code",
   "execution_count": 139,
   "id": "17058765",
   "metadata": {},
   "outputs": [
    {
     "data": {
      "text/html": [
       "<div>\n",
       "<style scoped>\n",
       "    .dataframe tbody tr th:only-of-type {\n",
       "        vertical-align: middle;\n",
       "    }\n",
       "\n",
       "    .dataframe tbody tr th {\n",
       "        vertical-align: top;\n",
       "    }\n",
       "\n",
       "    .dataframe thead th {\n",
       "        text-align: right;\n",
       "    }\n",
       "</style>\n",
       "<table border=\"1\" class=\"dataframe\">\n",
       "  <thead>\n",
       "    <tr style=\"text-align: right;\">\n",
       "      <th></th>\n",
       "      <th>departman</th>\n",
       "      <th>calısanlar</th>\n",
       "      <th>maas</th>\n",
       "    </tr>\n",
       "  </thead>\n",
       "  <tbody>\n",
       "    <tr>\n",
       "      <th>0</th>\n",
       "      <td>yazılım</td>\n",
       "      <td>aley</td>\n",
       "      <td>100</td>\n",
       "    </tr>\n",
       "    <tr>\n",
       "      <th>1</th>\n",
       "      <td>yazılım</td>\n",
       "      <td>ali</td>\n",
       "      <td>150</td>\n",
       "    </tr>\n",
       "    <tr>\n",
       "      <th>2</th>\n",
       "      <td>pazarlama</td>\n",
       "      <td>veli</td>\n",
       "      <td>200</td>\n",
       "    </tr>\n",
       "    <tr>\n",
       "      <th>3</th>\n",
       "      <td>pazarlama</td>\n",
       "      <td>osman</td>\n",
       "      <td>250</td>\n",
       "    </tr>\n",
       "    <tr>\n",
       "      <th>4</th>\n",
       "      <td>ik</td>\n",
       "      <td>zeynep</td>\n",
       "      <td>300</td>\n",
       "    </tr>\n",
       "    <tr>\n",
       "      <th>5</th>\n",
       "      <td>ik</td>\n",
       "      <td>ayse</td>\n",
       "      <td>350</td>\n",
       "    </tr>\n",
       "  </tbody>\n",
       "</table>\n",
       "</div>"
      ],
      "text/plain": [
       "   departman calısanlar  maas\n",
       "0    yazılım       aley   100\n",
       "1    yazılım        ali   150\n",
       "2  pazarlama       veli   200\n",
       "3  pazarlama      osman   250\n",
       "4         ik     zeynep   300\n",
       "5         ik       ayse   350"
      ]
     },
     "execution_count": 139,
     "metadata": {},
     "output_type": "execute_result"
    }
   ],
   "source": [
    "maasDataFrame"
   ]
  },
  {
   "cell_type": "code",
   "execution_count": 142,
   "id": "b3fdefb2",
   "metadata": {},
   "outputs": [],
   "source": [
    "maasGrup = maasDataFrame.groupby(\"departman\")"
   ]
  },
  {
   "cell_type": "code",
   "execution_count": 143,
   "id": "57d306f3",
   "metadata": {},
   "outputs": [
    {
     "data": {
      "text/html": [
       "<div>\n",
       "<style scoped>\n",
       "    .dataframe tbody tr th:only-of-type {\n",
       "        vertical-align: middle;\n",
       "    }\n",
       "\n",
       "    .dataframe tbody tr th {\n",
       "        vertical-align: top;\n",
       "    }\n",
       "\n",
       "    .dataframe thead th {\n",
       "        text-align: right;\n",
       "    }\n",
       "</style>\n",
       "<table border=\"1\" class=\"dataframe\">\n",
       "  <thead>\n",
       "    <tr style=\"text-align: right;\">\n",
       "      <th></th>\n",
       "      <th>departman</th>\n",
       "      <th>calısanlar</th>\n",
       "      <th>maas</th>\n",
       "    </tr>\n",
       "  </thead>\n",
       "  <tbody>\n",
       "    <tr>\n",
       "      <th>0</th>\n",
       "      <td>yazılım</td>\n",
       "      <td>aley</td>\n",
       "      <td>100</td>\n",
       "    </tr>\n",
       "    <tr>\n",
       "      <th>1</th>\n",
       "      <td>yazılım</td>\n",
       "      <td>ali</td>\n",
       "      <td>150</td>\n",
       "    </tr>\n",
       "    <tr>\n",
       "      <th>2</th>\n",
       "      <td>pazarlama</td>\n",
       "      <td>veli</td>\n",
       "      <td>200</td>\n",
       "    </tr>\n",
       "    <tr>\n",
       "      <th>3</th>\n",
       "      <td>pazarlama</td>\n",
       "      <td>osman</td>\n",
       "      <td>250</td>\n",
       "    </tr>\n",
       "    <tr>\n",
       "      <th>4</th>\n",
       "      <td>ik</td>\n",
       "      <td>zeynep</td>\n",
       "      <td>300</td>\n",
       "    </tr>\n",
       "    <tr>\n",
       "      <th>5</th>\n",
       "      <td>ik</td>\n",
       "      <td>ayse</td>\n",
       "      <td>350</td>\n",
       "    </tr>\n",
       "  </tbody>\n",
       "</table>\n",
       "</div>"
      ],
      "text/plain": [
       "   departman calısanlar  maas\n",
       "0    yazılım       aley   100\n",
       "1    yazılım        ali   150\n",
       "2  pazarlama       veli   200\n",
       "3  pazarlama      osman   250\n",
       "4         ik     zeynep   300\n",
       "5         ik       ayse   350"
      ]
     },
     "execution_count": 143,
     "metadata": {},
     "output_type": "execute_result"
    }
   ],
   "source": [
    "maasDataFrame"
   ]
  },
  {
   "cell_type": "code",
   "execution_count": 146,
   "id": "b8234e3f",
   "metadata": {},
   "outputs": [
    {
     "data": {
      "text/html": [
       "<div>\n",
       "<style scoped>\n",
       "    .dataframe tbody tr th:only-of-type {\n",
       "        vertical-align: middle;\n",
       "    }\n",
       "\n",
       "    .dataframe tbody tr th {\n",
       "        vertical-align: top;\n",
       "    }\n",
       "\n",
       "    .dataframe thead th {\n",
       "        text-align: right;\n",
       "    }\n",
       "</style>\n",
       "<table border=\"1\" class=\"dataframe\">\n",
       "  <thead>\n",
       "    <tr style=\"text-align: right;\">\n",
       "      <th></th>\n",
       "      <th>calısanlar</th>\n",
       "      <th>maas</th>\n",
       "    </tr>\n",
       "    <tr>\n",
       "      <th>departman</th>\n",
       "      <th></th>\n",
       "      <th></th>\n",
       "    </tr>\n",
       "  </thead>\n",
       "  <tbody>\n",
       "    <tr>\n",
       "      <th>ik</th>\n",
       "      <td>2</td>\n",
       "      <td>2</td>\n",
       "    </tr>\n",
       "    <tr>\n",
       "      <th>pazarlama</th>\n",
       "      <td>2</td>\n",
       "      <td>2</td>\n",
       "    </tr>\n",
       "    <tr>\n",
       "      <th>yazılım</th>\n",
       "      <td>2</td>\n",
       "      <td>2</td>\n",
       "    </tr>\n",
       "  </tbody>\n",
       "</table>\n",
       "</div>"
      ],
      "text/plain": [
       "           calısanlar  maas\n",
       "departman                  \n",
       "ik                  2     2\n",
       "pazarlama           2     2\n",
       "yazılım             2     2"
      ]
     },
     "execution_count": 146,
     "metadata": {},
     "output_type": "execute_result"
    }
   ],
   "source": [
    "maasGrup.count() #hangi departmanda kaç kişi var kaç maaş vaar"
   ]
  },
  {
   "cell_type": "code",
   "execution_count": 147,
   "id": "a9840897",
   "metadata": {},
   "outputs": [
    {
     "data": {
      "text/html": [
       "<div>\n",
       "<style scoped>\n",
       "    .dataframe tbody tr th:only-of-type {\n",
       "        vertical-align: middle;\n",
       "    }\n",
       "\n",
       "    .dataframe tbody tr th {\n",
       "        vertical-align: top;\n",
       "    }\n",
       "\n",
       "    .dataframe thead th {\n",
       "        text-align: right;\n",
       "    }\n",
       "</style>\n",
       "<table border=\"1\" class=\"dataframe\">\n",
       "  <thead>\n",
       "    <tr style=\"text-align: right;\">\n",
       "      <th></th>\n",
       "      <th>maas</th>\n",
       "    </tr>\n",
       "    <tr>\n",
       "      <th>departman</th>\n",
       "      <th></th>\n",
       "    </tr>\n",
       "  </thead>\n",
       "  <tbody>\n",
       "    <tr>\n",
       "      <th>ik</th>\n",
       "      <td>325.0</td>\n",
       "    </tr>\n",
       "    <tr>\n",
       "      <th>pazarlama</th>\n",
       "      <td>225.0</td>\n",
       "    </tr>\n",
       "    <tr>\n",
       "      <th>yazılım</th>\n",
       "      <td>125.0</td>\n",
       "    </tr>\n",
       "  </tbody>\n",
       "</table>\n",
       "</div>"
      ],
      "text/plain": [
       "            maas\n",
       "departman       \n",
       "ik         325.0\n",
       "pazarlama  225.0\n",
       "yazılım    125.0"
      ]
     },
     "execution_count": 147,
     "metadata": {},
     "output_type": "execute_result"
    }
   ],
   "source": [
    "maasGrup.mean() #ortalama maaş"
   ]
  },
  {
   "cell_type": "code",
   "execution_count": 148,
   "id": "6f809dde",
   "metadata": {},
   "outputs": [
    {
     "data": {
      "text/html": [
       "<div>\n",
       "<style scoped>\n",
       "    .dataframe tbody tr th:only-of-type {\n",
       "        vertical-align: middle;\n",
       "    }\n",
       "\n",
       "    .dataframe tbody tr th {\n",
       "        vertical-align: top;\n",
       "    }\n",
       "\n",
       "    .dataframe thead th {\n",
       "        text-align: right;\n",
       "    }\n",
       "</style>\n",
       "<table border=\"1\" class=\"dataframe\">\n",
       "  <thead>\n",
       "    <tr style=\"text-align: right;\">\n",
       "      <th></th>\n",
       "      <th>calısanlar</th>\n",
       "      <th>maas</th>\n",
       "    </tr>\n",
       "    <tr>\n",
       "      <th>departman</th>\n",
       "      <th></th>\n",
       "      <th></th>\n",
       "    </tr>\n",
       "  </thead>\n",
       "  <tbody>\n",
       "    <tr>\n",
       "      <th>ik</th>\n",
       "      <td>ayse</td>\n",
       "      <td>300</td>\n",
       "    </tr>\n",
       "    <tr>\n",
       "      <th>pazarlama</th>\n",
       "      <td>osman</td>\n",
       "      <td>200</td>\n",
       "    </tr>\n",
       "    <tr>\n",
       "      <th>yazılım</th>\n",
       "      <td>aley</td>\n",
       "      <td>100</td>\n",
       "    </tr>\n",
       "  </tbody>\n",
       "</table>\n",
       "</div>"
      ],
      "text/plain": [
       "          calısanlar  maas\n",
       "departman                 \n",
       "ik              ayse   300\n",
       "pazarlama      osman   200\n",
       "yazılım         aley   100"
      ]
     },
     "execution_count": 148,
     "metadata": {},
     "output_type": "execute_result"
    }
   ],
   "source": [
    "maasGrup.min()"
   ]
  },
  {
   "cell_type": "code",
   "execution_count": 149,
   "id": "75788652",
   "metadata": {},
   "outputs": [
    {
     "data": {
      "text/html": [
       "<div>\n",
       "<style scoped>\n",
       "    .dataframe tbody tr th:only-of-type {\n",
       "        vertical-align: middle;\n",
       "    }\n",
       "\n",
       "    .dataframe tbody tr th {\n",
       "        vertical-align: top;\n",
       "    }\n",
       "\n",
       "    .dataframe thead th {\n",
       "        text-align: right;\n",
       "    }\n",
       "</style>\n",
       "<table border=\"1\" class=\"dataframe\">\n",
       "  <thead>\n",
       "    <tr style=\"text-align: right;\">\n",
       "      <th></th>\n",
       "      <th>calısanlar</th>\n",
       "      <th>maas</th>\n",
       "    </tr>\n",
       "    <tr>\n",
       "      <th>departman</th>\n",
       "      <th></th>\n",
       "      <th></th>\n",
       "    </tr>\n",
       "  </thead>\n",
       "  <tbody>\n",
       "    <tr>\n",
       "      <th>ik</th>\n",
       "      <td>zeynep</td>\n",
       "      <td>350</td>\n",
       "    </tr>\n",
       "    <tr>\n",
       "      <th>pazarlama</th>\n",
       "      <td>veli</td>\n",
       "      <td>250</td>\n",
       "    </tr>\n",
       "    <tr>\n",
       "      <th>yazılım</th>\n",
       "      <td>ali</td>\n",
       "      <td>150</td>\n",
       "    </tr>\n",
       "  </tbody>\n",
       "</table>\n",
       "</div>"
      ],
      "text/plain": [
       "          calısanlar  maas\n",
       "departman                 \n",
       "ik            zeynep   350\n",
       "pazarlama       veli   250\n",
       "yazılım          ali   150"
      ]
     },
     "execution_count": 149,
     "metadata": {},
     "output_type": "execute_result"
    }
   ],
   "source": [
    "maasGrup.max()"
   ]
  },
  {
   "cell_type": "code",
   "execution_count": 151,
   "id": "113d012b",
   "metadata": {},
   "outputs": [
    {
     "data": {
      "text/html": [
       "<div>\n",
       "<style scoped>\n",
       "    .dataframe tbody tr th:only-of-type {\n",
       "        vertical-align: middle;\n",
       "    }\n",
       "\n",
       "    .dataframe tbody tr th {\n",
       "        vertical-align: top;\n",
       "    }\n",
       "\n",
       "    .dataframe thead tr th {\n",
       "        text-align: left;\n",
       "    }\n",
       "\n",
       "    .dataframe thead tr:last-of-type th {\n",
       "        text-align: right;\n",
       "    }\n",
       "</style>\n",
       "<table border=\"1\" class=\"dataframe\">\n",
       "  <thead>\n",
       "    <tr>\n",
       "      <th></th>\n",
       "      <th colspan=\"8\" halign=\"left\">maas</th>\n",
       "    </tr>\n",
       "    <tr>\n",
       "      <th></th>\n",
       "      <th>count</th>\n",
       "      <th>mean</th>\n",
       "      <th>std</th>\n",
       "      <th>min</th>\n",
       "      <th>25%</th>\n",
       "      <th>50%</th>\n",
       "      <th>75%</th>\n",
       "      <th>max</th>\n",
       "    </tr>\n",
       "    <tr>\n",
       "      <th>departman</th>\n",
       "      <th></th>\n",
       "      <th></th>\n",
       "      <th></th>\n",
       "      <th></th>\n",
       "      <th></th>\n",
       "      <th></th>\n",
       "      <th></th>\n",
       "      <th></th>\n",
       "    </tr>\n",
       "  </thead>\n",
       "  <tbody>\n",
       "    <tr>\n",
       "      <th>ik</th>\n",
       "      <td>2.0</td>\n",
       "      <td>325.0</td>\n",
       "      <td>35.355339</td>\n",
       "      <td>300.0</td>\n",
       "      <td>312.5</td>\n",
       "      <td>325.0</td>\n",
       "      <td>337.5</td>\n",
       "      <td>350.0</td>\n",
       "    </tr>\n",
       "    <tr>\n",
       "      <th>pazarlama</th>\n",
       "      <td>2.0</td>\n",
       "      <td>225.0</td>\n",
       "      <td>35.355339</td>\n",
       "      <td>200.0</td>\n",
       "      <td>212.5</td>\n",
       "      <td>225.0</td>\n",
       "      <td>237.5</td>\n",
       "      <td>250.0</td>\n",
       "    </tr>\n",
       "    <tr>\n",
       "      <th>yazılım</th>\n",
       "      <td>2.0</td>\n",
       "      <td>125.0</td>\n",
       "      <td>35.355339</td>\n",
       "      <td>100.0</td>\n",
       "      <td>112.5</td>\n",
       "      <td>125.0</td>\n",
       "      <td>137.5</td>\n",
       "      <td>150.0</td>\n",
       "    </tr>\n",
       "  </tbody>\n",
       "</table>\n",
       "</div>"
      ],
      "text/plain": [
       "           maas                                                     \n",
       "          count   mean        std    min    25%    50%    75%    max\n",
       "departman                                                           \n",
       "ik          2.0  325.0  35.355339  300.0  312.5  325.0  337.5  350.0\n",
       "pazarlama   2.0  225.0  35.355339  200.0  212.5  225.0  237.5  250.0\n",
       "yazılım     2.0  125.0  35.355339  100.0  112.5  125.0  137.5  150.0"
      ]
     },
     "execution_count": 151,
     "metadata": {},
     "output_type": "execute_result"
    }
   ],
   "source": [
    "maasGrup.describe() #tüm değerleri kendisi hesaplıyor"
   ]
  },
  {
   "cell_type": "markdown",
   "id": "7c4bf7b4",
   "metadata": {},
   "source": [
    "# concat / concatenation birleştirme"
   ]
  },
  {
   "cell_type": "code",
   "execution_count": 163,
   "id": "eb6e1a5b",
   "metadata": {},
   "outputs": [],
   "source": [
    "sozluk1 = {\"isim\": [\"ali\",\"veli\",\"serpil\",\"can\"],\n",
    "          \"spor\": [\"koşu\",\"yüzme\",\"koşu\",\"basket\"],\n",
    "          \"kalori\": [100,200,300,400]}"
   ]
  },
  {
   "cell_type": "code",
   "execution_count": 164,
   "id": "034784fc",
   "metadata": {},
   "outputs": [],
   "source": [
    "dataFrame1 = pd.DataFrame(sozluk1, index = [0,1,2,3])"
   ]
  },
  {
   "cell_type": "code",
   "execution_count": 165,
   "id": "e656aa05",
   "metadata": {},
   "outputs": [
    {
     "data": {
      "text/html": [
       "<div>\n",
       "<style scoped>\n",
       "    .dataframe tbody tr th:only-of-type {\n",
       "        vertical-align: middle;\n",
       "    }\n",
       "\n",
       "    .dataframe tbody tr th {\n",
       "        vertical-align: top;\n",
       "    }\n",
       "\n",
       "    .dataframe thead th {\n",
       "        text-align: right;\n",
       "    }\n",
       "</style>\n",
       "<table border=\"1\" class=\"dataframe\">\n",
       "  <thead>\n",
       "    <tr style=\"text-align: right;\">\n",
       "      <th></th>\n",
       "      <th>isim</th>\n",
       "      <th>spor</th>\n",
       "      <th>kalori</th>\n",
       "    </tr>\n",
       "  </thead>\n",
       "  <tbody>\n",
       "    <tr>\n",
       "      <th>0</th>\n",
       "      <td>ali</td>\n",
       "      <td>koşu</td>\n",
       "      <td>100</td>\n",
       "    </tr>\n",
       "    <tr>\n",
       "      <th>1</th>\n",
       "      <td>veli</td>\n",
       "      <td>yüzme</td>\n",
       "      <td>200</td>\n",
       "    </tr>\n",
       "    <tr>\n",
       "      <th>2</th>\n",
       "      <td>serpil</td>\n",
       "      <td>koşu</td>\n",
       "      <td>300</td>\n",
       "    </tr>\n",
       "    <tr>\n",
       "      <th>3</th>\n",
       "      <td>can</td>\n",
       "      <td>basket</td>\n",
       "      <td>400</td>\n",
       "    </tr>\n",
       "  </tbody>\n",
       "</table>\n",
       "</div>"
      ],
      "text/plain": [
       "     isim    spor  kalori\n",
       "0     ali    koşu     100\n",
       "1    veli   yüzme     200\n",
       "2  serpil    koşu     300\n",
       "3     can  basket     400"
      ]
     },
     "execution_count": 165,
     "metadata": {},
     "output_type": "execute_result"
    }
   ],
   "source": [
    "dataFrame1"
   ]
  },
  {
   "cell_type": "code",
   "execution_count": 166,
   "id": "28a09c22",
   "metadata": {},
   "outputs": [],
   "source": [
    "sozluk2 = {\"isim\": [\"osman\",\"levo\",\"serkan\",\"canan\"],\n",
    "          \"spor\": [\"koşu\",\"yüzme\",\"koşu\",\"basket\"],\n",
    "          \"kalori\": [200,250,350,100]}"
   ]
  },
  {
   "cell_type": "code",
   "execution_count": 167,
   "id": "3c13a1ac",
   "metadata": {},
   "outputs": [],
   "source": [
    "dataframe2 = pd.DataFrame(sozluk2, index = [4,5,6,7])"
   ]
  },
  {
   "cell_type": "code",
   "execution_count": 168,
   "id": "65f43e83",
   "metadata": {},
   "outputs": [
    {
     "data": {
      "text/html": [
       "<div>\n",
       "<style scoped>\n",
       "    .dataframe tbody tr th:only-of-type {\n",
       "        vertical-align: middle;\n",
       "    }\n",
       "\n",
       "    .dataframe tbody tr th {\n",
       "        vertical-align: top;\n",
       "    }\n",
       "\n",
       "    .dataframe thead th {\n",
       "        text-align: right;\n",
       "    }\n",
       "</style>\n",
       "<table border=\"1\" class=\"dataframe\">\n",
       "  <thead>\n",
       "    <tr style=\"text-align: right;\">\n",
       "      <th></th>\n",
       "      <th>isim</th>\n",
       "      <th>spor</th>\n",
       "      <th>kalori</th>\n",
       "    </tr>\n",
       "  </thead>\n",
       "  <tbody>\n",
       "    <tr>\n",
       "      <th>4</th>\n",
       "      <td>osman</td>\n",
       "      <td>koşu</td>\n",
       "      <td>200</td>\n",
       "    </tr>\n",
       "    <tr>\n",
       "      <th>5</th>\n",
       "      <td>levo</td>\n",
       "      <td>yüzme</td>\n",
       "      <td>250</td>\n",
       "    </tr>\n",
       "    <tr>\n",
       "      <th>6</th>\n",
       "      <td>serkan</td>\n",
       "      <td>koşu</td>\n",
       "      <td>350</td>\n",
       "    </tr>\n",
       "    <tr>\n",
       "      <th>7</th>\n",
       "      <td>canan</td>\n",
       "      <td>basket</td>\n",
       "      <td>100</td>\n",
       "    </tr>\n",
       "  </tbody>\n",
       "</table>\n",
       "</div>"
      ],
      "text/plain": [
       "     isim    spor  kalori\n",
       "4   osman    koşu     200\n",
       "5    levo   yüzme     250\n",
       "6  serkan    koşu     350\n",
       "7   canan  basket     100"
      ]
     },
     "execution_count": 168,
     "metadata": {},
     "output_type": "execute_result"
    }
   ],
   "source": [
    "dataframe2"
   ]
  },
  {
   "cell_type": "code",
   "execution_count": 169,
   "id": "b96d6aeb",
   "metadata": {},
   "outputs": [],
   "source": [
    "sozluk3 = {\"isim\": [\"ayşe\",\"mahmut\",\"duygu\",\"nur\"],\n",
    "          \"spor\": [\"koşu\",\"yüzme\",\"badminton\",\"tenis\"],\n",
    "          \"kalori\": [300,550,200,150]}"
   ]
  },
  {
   "cell_type": "code",
   "execution_count": 170,
   "id": "9c4160cd",
   "metadata": {},
   "outputs": [],
   "source": [
    "dataframe3 = pd.DataFrame(sozluk3, index = [8,9,10,11])"
   ]
  },
  {
   "cell_type": "code",
   "execution_count": 171,
   "id": "0982e143",
   "metadata": {},
   "outputs": [
    {
     "data": {
      "text/html": [
       "<div>\n",
       "<style scoped>\n",
       "    .dataframe tbody tr th:only-of-type {\n",
       "        vertical-align: middle;\n",
       "    }\n",
       "\n",
       "    .dataframe tbody tr th {\n",
       "        vertical-align: top;\n",
       "    }\n",
       "\n",
       "    .dataframe thead th {\n",
       "        text-align: right;\n",
       "    }\n",
       "</style>\n",
       "<table border=\"1\" class=\"dataframe\">\n",
       "  <thead>\n",
       "    <tr style=\"text-align: right;\">\n",
       "      <th></th>\n",
       "      <th>isim</th>\n",
       "      <th>spor</th>\n",
       "      <th>kalori</th>\n",
       "    </tr>\n",
       "  </thead>\n",
       "  <tbody>\n",
       "    <tr>\n",
       "      <th>8</th>\n",
       "      <td>ayşe</td>\n",
       "      <td>koşu</td>\n",
       "      <td>300</td>\n",
       "    </tr>\n",
       "    <tr>\n",
       "      <th>9</th>\n",
       "      <td>mahmut</td>\n",
       "      <td>yüzme</td>\n",
       "      <td>550</td>\n",
       "    </tr>\n",
       "    <tr>\n",
       "      <th>10</th>\n",
       "      <td>duygu</td>\n",
       "      <td>badminton</td>\n",
       "      <td>200</td>\n",
       "    </tr>\n",
       "    <tr>\n",
       "      <th>11</th>\n",
       "      <td>nur</td>\n",
       "      <td>tenis</td>\n",
       "      <td>150</td>\n",
       "    </tr>\n",
       "  </tbody>\n",
       "</table>\n",
       "</div>"
      ],
      "text/plain": [
       "      isim       spor  kalori\n",
       "8     ayşe       koşu     300\n",
       "9   mahmut      yüzme     550\n",
       "10   duygu  badminton     200\n",
       "11     nur      tenis     150"
      ]
     },
     "execution_count": 171,
     "metadata": {},
     "output_type": "execute_result"
    }
   ],
   "source": [
    "dataframe3"
   ]
  },
  {
   "cell_type": "code",
   "execution_count": 173,
   "id": "cf063ee3",
   "metadata": {
    "scrolled": true
   },
   "outputs": [
    {
     "data": {
      "text/html": [
       "<div>\n",
       "<style scoped>\n",
       "    .dataframe tbody tr th:only-of-type {\n",
       "        vertical-align: middle;\n",
       "    }\n",
       "\n",
       "    .dataframe tbody tr th {\n",
       "        vertical-align: top;\n",
       "    }\n",
       "\n",
       "    .dataframe thead th {\n",
       "        text-align: right;\n",
       "    }\n",
       "</style>\n",
       "<table border=\"1\" class=\"dataframe\">\n",
       "  <thead>\n",
       "    <tr style=\"text-align: right;\">\n",
       "      <th></th>\n",
       "      <th>isim</th>\n",
       "      <th>spor</th>\n",
       "      <th>kalori</th>\n",
       "    </tr>\n",
       "  </thead>\n",
       "  <tbody>\n",
       "    <tr>\n",
       "      <th>0</th>\n",
       "      <td>ali</td>\n",
       "      <td>koşu</td>\n",
       "      <td>100</td>\n",
       "    </tr>\n",
       "    <tr>\n",
       "      <th>1</th>\n",
       "      <td>veli</td>\n",
       "      <td>yüzme</td>\n",
       "      <td>200</td>\n",
       "    </tr>\n",
       "    <tr>\n",
       "      <th>2</th>\n",
       "      <td>serpil</td>\n",
       "      <td>koşu</td>\n",
       "      <td>300</td>\n",
       "    </tr>\n",
       "    <tr>\n",
       "      <th>3</th>\n",
       "      <td>can</td>\n",
       "      <td>basket</td>\n",
       "      <td>400</td>\n",
       "    </tr>\n",
       "    <tr>\n",
       "      <th>4</th>\n",
       "      <td>osman</td>\n",
       "      <td>koşu</td>\n",
       "      <td>200</td>\n",
       "    </tr>\n",
       "    <tr>\n",
       "      <th>5</th>\n",
       "      <td>levo</td>\n",
       "      <td>yüzme</td>\n",
       "      <td>250</td>\n",
       "    </tr>\n",
       "    <tr>\n",
       "      <th>6</th>\n",
       "      <td>serkan</td>\n",
       "      <td>koşu</td>\n",
       "      <td>350</td>\n",
       "    </tr>\n",
       "    <tr>\n",
       "      <th>7</th>\n",
       "      <td>canan</td>\n",
       "      <td>basket</td>\n",
       "      <td>100</td>\n",
       "    </tr>\n",
       "    <tr>\n",
       "      <th>8</th>\n",
       "      <td>ayşe</td>\n",
       "      <td>koşu</td>\n",
       "      <td>300</td>\n",
       "    </tr>\n",
       "    <tr>\n",
       "      <th>9</th>\n",
       "      <td>mahmut</td>\n",
       "      <td>yüzme</td>\n",
       "      <td>550</td>\n",
       "    </tr>\n",
       "    <tr>\n",
       "      <th>10</th>\n",
       "      <td>duygu</td>\n",
       "      <td>badminton</td>\n",
       "      <td>200</td>\n",
       "    </tr>\n",
       "    <tr>\n",
       "      <th>11</th>\n",
       "      <td>nur</td>\n",
       "      <td>tenis</td>\n",
       "      <td>150</td>\n",
       "    </tr>\n",
       "  </tbody>\n",
       "</table>\n",
       "</div>"
      ],
      "text/plain": [
       "      isim       spor  kalori\n",
       "0      ali       koşu     100\n",
       "1     veli      yüzme     200\n",
       "2   serpil       koşu     300\n",
       "3      can     basket     400\n",
       "4    osman       koşu     200\n",
       "5     levo      yüzme     250\n",
       "6   serkan       koşu     350\n",
       "7    canan     basket     100\n",
       "8     ayşe       koşu     300\n",
       "9   mahmut      yüzme     550\n",
       "10   duygu  badminton     200\n",
       "11     nur      tenis     150"
      ]
     },
     "execution_count": 173,
     "metadata": {},
     "output_type": "execute_result"
    }
   ],
   "source": [
    "pd.concat([dataFrame1,dataframe2,dataframe3], axis = 0)"
   ]
  },
  {
   "cell_type": "markdown",
   "id": "4afcf8dd",
   "metadata": {},
   "source": [
    "# merge / birleştirmek, kaynaştırmak"
   ]
  },
  {
   "cell_type": "code",
   "execution_count": 183,
   "id": "2c41e093",
   "metadata": {},
   "outputs": [],
   "source": [
    "#concat gidi değil, 2 ayrı tablo var evet ama ortak datalar var, bunları kaynaştırıyor.\n",
    "\n",
    "# .merge( , , on = )  on ile ortak olan sütun/kolon üzerinden kaynaştırma sağlıyor"
   ]
  },
  {
   "cell_type": "code",
   "execution_count": 175,
   "id": "e4a24828",
   "metadata": {},
   "outputs": [],
   "source": [
    "mergeSozluk1 = {\"isim\" : [\"ahmet\", \"mehmet\",\"zeynep\",\"aley\"],\n",
    "               \"spor\" : [\"koşu\", \"yüzme\",\"koşu\",\"basket\"]}"
   ]
  },
  {
   "cell_type": "code",
   "execution_count": 176,
   "id": "a3923288",
   "metadata": {},
   "outputs": [],
   "source": [
    "mergeDataFrame1 = pd.DataFrame(mergeSozluk1)"
   ]
  },
  {
   "cell_type": "code",
   "execution_count": 177,
   "id": "d08ddcd9",
   "metadata": {},
   "outputs": [
    {
     "data": {
      "text/html": [
       "<div>\n",
       "<style scoped>\n",
       "    .dataframe tbody tr th:only-of-type {\n",
       "        vertical-align: middle;\n",
       "    }\n",
       "\n",
       "    .dataframe tbody tr th {\n",
       "        vertical-align: top;\n",
       "    }\n",
       "\n",
       "    .dataframe thead th {\n",
       "        text-align: right;\n",
       "    }\n",
       "</style>\n",
       "<table border=\"1\" class=\"dataframe\">\n",
       "  <thead>\n",
       "    <tr style=\"text-align: right;\">\n",
       "      <th></th>\n",
       "      <th>isim</th>\n",
       "      <th>spor</th>\n",
       "    </tr>\n",
       "  </thead>\n",
       "  <tbody>\n",
       "    <tr>\n",
       "      <th>0</th>\n",
       "      <td>ahmet</td>\n",
       "      <td>koşu</td>\n",
       "    </tr>\n",
       "    <tr>\n",
       "      <th>1</th>\n",
       "      <td>mehmet</td>\n",
       "      <td>yüzme</td>\n",
       "    </tr>\n",
       "    <tr>\n",
       "      <th>2</th>\n",
       "      <td>zeynep</td>\n",
       "      <td>koşu</td>\n",
       "    </tr>\n",
       "    <tr>\n",
       "      <th>3</th>\n",
       "      <td>aley</td>\n",
       "      <td>basket</td>\n",
       "    </tr>\n",
       "  </tbody>\n",
       "</table>\n",
       "</div>"
      ],
      "text/plain": [
       "     isim    spor\n",
       "0   ahmet    koşu\n",
       "1  mehmet   yüzme\n",
       "2  zeynep    koşu\n",
       "3    aley  basket"
      ]
     },
     "execution_count": 177,
     "metadata": {},
     "output_type": "execute_result"
    }
   ],
   "source": [
    "mergeDataFrame1"
   ]
  },
  {
   "cell_type": "code",
   "execution_count": 178,
   "id": "fd2a8b9d",
   "metadata": {},
   "outputs": [],
   "source": [
    "mergeSozluk2 = {\"isim\" : [\"ahmet\", \"mehmet\",\"zeynep\",\"aley\"],\n",
    "               \"kalori\" : [100,200,300,250]}"
   ]
  },
  {
   "cell_type": "code",
   "execution_count": 179,
   "id": "5877c0c8",
   "metadata": {},
   "outputs": [],
   "source": [
    "mergeDataFrame2 = pd.DataFrame(mergeSozluk2)"
   ]
  },
  {
   "cell_type": "code",
   "execution_count": 180,
   "id": "46b3b838",
   "metadata": {},
   "outputs": [
    {
     "data": {
      "text/html": [
       "<div>\n",
       "<style scoped>\n",
       "    .dataframe tbody tr th:only-of-type {\n",
       "        vertical-align: middle;\n",
       "    }\n",
       "\n",
       "    .dataframe tbody tr th {\n",
       "        vertical-align: top;\n",
       "    }\n",
       "\n",
       "    .dataframe thead th {\n",
       "        text-align: right;\n",
       "    }\n",
       "</style>\n",
       "<table border=\"1\" class=\"dataframe\">\n",
       "  <thead>\n",
       "    <tr style=\"text-align: right;\">\n",
       "      <th></th>\n",
       "      <th>isim</th>\n",
       "      <th>kalori</th>\n",
       "    </tr>\n",
       "  </thead>\n",
       "  <tbody>\n",
       "    <tr>\n",
       "      <th>0</th>\n",
       "      <td>ahmet</td>\n",
       "      <td>100</td>\n",
       "    </tr>\n",
       "    <tr>\n",
       "      <th>1</th>\n",
       "      <td>mehmet</td>\n",
       "      <td>200</td>\n",
       "    </tr>\n",
       "    <tr>\n",
       "      <th>2</th>\n",
       "      <td>zeynep</td>\n",
       "      <td>300</td>\n",
       "    </tr>\n",
       "    <tr>\n",
       "      <th>3</th>\n",
       "      <td>aley</td>\n",
       "      <td>250</td>\n",
       "    </tr>\n",
       "  </tbody>\n",
       "</table>\n",
       "</div>"
      ],
      "text/plain": [
       "     isim  kalori\n",
       "0   ahmet     100\n",
       "1  mehmet     200\n",
       "2  zeynep     300\n",
       "3    aley     250"
      ]
     },
     "execution_count": 180,
     "metadata": {},
     "output_type": "execute_result"
    }
   ],
   "source": [
    "mergeDataFrame2"
   ]
  },
  {
   "cell_type": "code",
   "execution_count": 181,
   "id": "b9cab8e0",
   "metadata": {},
   "outputs": [
    {
     "data": {
      "text/html": [
       "<div>\n",
       "<style scoped>\n",
       "    .dataframe tbody tr th:only-of-type {\n",
       "        vertical-align: middle;\n",
       "    }\n",
       "\n",
       "    .dataframe tbody tr th {\n",
       "        vertical-align: top;\n",
       "    }\n",
       "\n",
       "    .dataframe thead th {\n",
       "        text-align: right;\n",
       "    }\n",
       "</style>\n",
       "<table border=\"1\" class=\"dataframe\">\n",
       "  <thead>\n",
       "    <tr style=\"text-align: right;\">\n",
       "      <th></th>\n",
       "      <th>isim</th>\n",
       "      <th>spor</th>\n",
       "      <th>kalori</th>\n",
       "    </tr>\n",
       "  </thead>\n",
       "  <tbody>\n",
       "    <tr>\n",
       "      <th>0</th>\n",
       "      <td>ahmet</td>\n",
       "      <td>koşu</td>\n",
       "      <td>100</td>\n",
       "    </tr>\n",
       "    <tr>\n",
       "      <th>1</th>\n",
       "      <td>mehmet</td>\n",
       "      <td>yüzme</td>\n",
       "      <td>200</td>\n",
       "    </tr>\n",
       "    <tr>\n",
       "      <th>2</th>\n",
       "      <td>zeynep</td>\n",
       "      <td>koşu</td>\n",
       "      <td>300</td>\n",
       "    </tr>\n",
       "    <tr>\n",
       "      <th>3</th>\n",
       "      <td>aley</td>\n",
       "      <td>basket</td>\n",
       "      <td>250</td>\n",
       "    </tr>\n",
       "  </tbody>\n",
       "</table>\n",
       "</div>"
      ],
      "text/plain": [
       "     isim    spor  kalori\n",
       "0   ahmet    koşu     100\n",
       "1  mehmet   yüzme     200\n",
       "2  zeynep    koşu     300\n",
       "3    aley  basket     250"
      ]
     },
     "execution_count": 181,
     "metadata": {},
     "output_type": "execute_result"
    }
   ],
   "source": [
    "pd.merge(mergeDataFrame1,mergeDataFrame2, on = \"isim\")"
   ]
  },
  {
   "cell_type": "markdown",
   "id": "3c88e92c",
   "metadata": {},
   "source": [
    "# ileri örnekler "
   ]
  },
  {
   "cell_type": "code",
   "execution_count": 184,
   "id": "bb364b34",
   "metadata": {},
   "outputs": [],
   "source": [
    "maasSozluk = {\"isimler\" : [\"ayşe\",\"fatma\",\"can\",\"anıl\"],\n",
    "             \"departman\" : [\"ik\",\"finans\",\"yazılım\",\"ik\"],\n",
    "             \"maas\" : [200,300,500,700]}"
   ]
  },
  {
   "cell_type": "code",
   "execution_count": 185,
   "id": "4fbdc12f",
   "metadata": {},
   "outputs": [],
   "source": [
    "maasDataFrame = pd.DataFrame(maasSozluk)"
   ]
  },
  {
   "cell_type": "code",
   "execution_count": 186,
   "id": "0b5e5b56",
   "metadata": {},
   "outputs": [
    {
     "data": {
      "text/html": [
       "<div>\n",
       "<style scoped>\n",
       "    .dataframe tbody tr th:only-of-type {\n",
       "        vertical-align: middle;\n",
       "    }\n",
       "\n",
       "    .dataframe tbody tr th {\n",
       "        vertical-align: top;\n",
       "    }\n",
       "\n",
       "    .dataframe thead th {\n",
       "        text-align: right;\n",
       "    }\n",
       "</style>\n",
       "<table border=\"1\" class=\"dataframe\">\n",
       "  <thead>\n",
       "    <tr style=\"text-align: right;\">\n",
       "      <th></th>\n",
       "      <th>isimler</th>\n",
       "      <th>departman</th>\n",
       "      <th>maas</th>\n",
       "    </tr>\n",
       "  </thead>\n",
       "  <tbody>\n",
       "    <tr>\n",
       "      <th>0</th>\n",
       "      <td>ayşe</td>\n",
       "      <td>ik</td>\n",
       "      <td>200</td>\n",
       "    </tr>\n",
       "    <tr>\n",
       "      <th>1</th>\n",
       "      <td>fatma</td>\n",
       "      <td>finans</td>\n",
       "      <td>300</td>\n",
       "    </tr>\n",
       "    <tr>\n",
       "      <th>2</th>\n",
       "      <td>can</td>\n",
       "      <td>yazılım</td>\n",
       "      <td>500</td>\n",
       "    </tr>\n",
       "    <tr>\n",
       "      <th>3</th>\n",
       "      <td>anıl</td>\n",
       "      <td>ik</td>\n",
       "      <td>700</td>\n",
       "    </tr>\n",
       "  </tbody>\n",
       "</table>\n",
       "</div>"
      ],
      "text/plain": [
       "  isimler departman  maas\n",
       "0    ayşe        ik   200\n",
       "1   fatma    finans   300\n",
       "2     can   yazılım   500\n",
       "3    anıl        ik   700"
      ]
     },
     "execution_count": 186,
     "metadata": {},
     "output_type": "execute_result"
    }
   ],
   "source": [
    "maasDataFrame"
   ]
  },
  {
   "cell_type": "code",
   "execution_count": 187,
   "id": "8a41fcb2",
   "metadata": {
    "scrolled": true
   },
   "outputs": [
    {
     "data": {
      "text/plain": [
       "0         ik\n",
       "1     finans\n",
       "2    yazılım\n",
       "3         ik\n",
       "Name: departman, dtype: object"
      ]
     },
     "execution_count": 187,
     "metadata": {},
     "output_type": "execute_result"
    }
   ],
   "source": [
    "maasDataFrame[\"departman\"]"
   ]
  },
  {
   "cell_type": "markdown",
   "id": "f6aec9aa",
   "metadata": {},
   "source": [
    "# uniqe"
   ]
  },
  {
   "cell_type": "code",
   "execution_count": 188,
   "id": "5c62d8c9",
   "metadata": {},
   "outputs": [
    {
     "data": {
      "text/plain": [
       "array(['ik', 'finans', 'yazılım'], dtype=object)"
      ]
     },
     "execution_count": 188,
     "metadata": {},
     "output_type": "execute_result"
    }
   ],
   "source": [
    "maasDataFrame[\"departman\"].unique()"
   ]
  },
  {
   "cell_type": "code",
   "execution_count": 189,
   "id": "48551a95",
   "metadata": {},
   "outputs": [
    {
     "data": {
      "text/plain": [
       "3"
      ]
     },
     "execution_count": 189,
     "metadata": {},
     "output_type": "execute_result"
    }
   ],
   "source": [
    "maasDataFrame[\"departman\"].nunique()  #number of uniqe"
   ]
  },
  {
   "cell_type": "code",
   "execution_count": 190,
   "id": "11eafbe0",
   "metadata": {},
   "outputs": [
    {
     "data": {
      "text/plain": [
       "ik         2\n",
       "finans     1\n",
       "yazılım    1\n",
       "Name: departman, dtype: int64"
      ]
     },
     "execution_count": 190,
     "metadata": {},
     "output_type": "execute_result"
    }
   ],
   "source": [
    "maasDataFrame[\"departman\"].value_counts()"
   ]
  },
  {
   "cell_type": "markdown",
   "id": "e0448843",
   "metadata": {},
   "source": [
    "# apply"
   ]
  },
  {
   "cell_type": "code",
   "execution_count": 194,
   "id": "f12dd2f6",
   "metadata": {},
   "outputs": [],
   "source": [
    "def bruttenNete(maas) :\n",
    "    return maas * 0.66"
   ]
  },
  {
   "cell_type": "code",
   "execution_count": 195,
   "id": "3e661b4f",
   "metadata": {},
   "outputs": [
    {
     "data": {
      "text/plain": [
       "0    132.0\n",
       "1    198.0\n",
       "2    330.0\n",
       "3    462.0\n",
       "Name: maas, dtype: float64"
      ]
     },
     "execution_count": 195,
     "metadata": {},
     "output_type": "execute_result"
    }
   ],
   "source": [
    "maasDataFrame[\"maas\"].apply(bruttenNete)"
   ]
  },
  {
   "cell_type": "code",
   "execution_count": 196,
   "id": "48650327",
   "metadata": {},
   "outputs": [
    {
     "data": {
      "text/html": [
       "<div>\n",
       "<style scoped>\n",
       "    .dataframe tbody tr th:only-of-type {\n",
       "        vertical-align: middle;\n",
       "    }\n",
       "\n",
       "    .dataframe tbody tr th {\n",
       "        vertical-align: top;\n",
       "    }\n",
       "\n",
       "    .dataframe thead th {\n",
       "        text-align: right;\n",
       "    }\n",
       "</style>\n",
       "<table border=\"1\" class=\"dataframe\">\n",
       "  <thead>\n",
       "    <tr style=\"text-align: right;\">\n",
       "      <th></th>\n",
       "      <th>isimler</th>\n",
       "      <th>departman</th>\n",
       "      <th>maas</th>\n",
       "    </tr>\n",
       "  </thead>\n",
       "  <tbody>\n",
       "    <tr>\n",
       "      <th>0</th>\n",
       "      <td>False</td>\n",
       "      <td>False</td>\n",
       "      <td>False</td>\n",
       "    </tr>\n",
       "    <tr>\n",
       "      <th>1</th>\n",
       "      <td>False</td>\n",
       "      <td>False</td>\n",
       "      <td>False</td>\n",
       "    </tr>\n",
       "    <tr>\n",
       "      <th>2</th>\n",
       "      <td>False</td>\n",
       "      <td>False</td>\n",
       "      <td>False</td>\n",
       "    </tr>\n",
       "    <tr>\n",
       "      <th>3</th>\n",
       "      <td>False</td>\n",
       "      <td>False</td>\n",
       "      <td>False</td>\n",
       "    </tr>\n",
       "  </tbody>\n",
       "</table>\n",
       "</div>"
      ],
      "text/plain": [
       "   isimler  departman   maas\n",
       "0    False      False  False\n",
       "1    False      False  False\n",
       "2    False      False  False\n",
       "3    False      False  False"
      ]
     },
     "execution_count": 196,
     "metadata": {},
     "output_type": "execute_result"
    }
   ],
   "source": [
    "maasDataFrame.isnull()"
   ]
  },
  {
   "cell_type": "markdown",
   "id": "a6a5e06d",
   "metadata": {},
   "source": [
    "# pivot table"
   ]
  },
  {
   "cell_type": "code",
   "execution_count": 197,
   "id": "9ebc1d16",
   "metadata": {},
   "outputs": [],
   "source": [
    "yeniVeri = {\"karakterler\": [\"South Park\", \"South Park\", \"Simpson\",\"Simpson\"],\n",
    "           \"karakter ismi\": [\"cartman\",\"kenny\",\"homer\",\"bart\"],\n",
    "           \"karakter yas\": [9,10,50,20]}"
   ]
  },
  {
   "cell_type": "code",
   "execution_count": 198,
   "id": "a03e32ba",
   "metadata": {},
   "outputs": [],
   "source": [
    "karakterDF = pd.DataFrame(yeniVeri)"
   ]
  },
  {
   "cell_type": "code",
   "execution_count": 199,
   "id": "28d6cf7f",
   "metadata": {},
   "outputs": [
    {
     "data": {
      "text/html": [
       "<div>\n",
       "<style scoped>\n",
       "    .dataframe tbody tr th:only-of-type {\n",
       "        vertical-align: middle;\n",
       "    }\n",
       "\n",
       "    .dataframe tbody tr th {\n",
       "        vertical-align: top;\n",
       "    }\n",
       "\n",
       "    .dataframe thead th {\n",
       "        text-align: right;\n",
       "    }\n",
       "</style>\n",
       "<table border=\"1\" class=\"dataframe\">\n",
       "  <thead>\n",
       "    <tr style=\"text-align: right;\">\n",
       "      <th></th>\n",
       "      <th>karakterler</th>\n",
       "      <th>karakter ismi</th>\n",
       "      <th>karakter yas</th>\n",
       "    </tr>\n",
       "  </thead>\n",
       "  <tbody>\n",
       "    <tr>\n",
       "      <th>0</th>\n",
       "      <td>South Park</td>\n",
       "      <td>cartman</td>\n",
       "      <td>9</td>\n",
       "    </tr>\n",
       "    <tr>\n",
       "      <th>1</th>\n",
       "      <td>South Park</td>\n",
       "      <td>kenny</td>\n",
       "      <td>10</td>\n",
       "    </tr>\n",
       "    <tr>\n",
       "      <th>2</th>\n",
       "      <td>Simpson</td>\n",
       "      <td>homer</td>\n",
       "      <td>50</td>\n",
       "    </tr>\n",
       "    <tr>\n",
       "      <th>3</th>\n",
       "      <td>Simpson</td>\n",
       "      <td>bart</td>\n",
       "      <td>20</td>\n",
       "    </tr>\n",
       "  </tbody>\n",
       "</table>\n",
       "</div>"
      ],
      "text/plain": [
       "  karakterler karakter ismi  karakter yas\n",
       "0  South Park       cartman             9\n",
       "1  South Park         kenny            10\n",
       "2     Simpson         homer            50\n",
       "3     Simpson          bart            20"
      ]
     },
     "execution_count": 199,
     "metadata": {},
     "output_type": "execute_result"
    }
   ],
   "source": [
    "karakterDF"
   ]
  },
  {
   "cell_type": "code",
   "execution_count": 202,
   "id": "16f40536",
   "metadata": {},
   "outputs": [
    {
     "data": {
      "text/html": [
       "<div>\n",
       "<style scoped>\n",
       "    .dataframe tbody tr th:only-of-type {\n",
       "        vertical-align: middle;\n",
       "    }\n",
       "\n",
       "    .dataframe tbody tr th {\n",
       "        vertical-align: top;\n",
       "    }\n",
       "\n",
       "    .dataframe thead th {\n",
       "        text-align: right;\n",
       "    }\n",
       "</style>\n",
       "<table border=\"1\" class=\"dataframe\">\n",
       "  <thead>\n",
       "    <tr style=\"text-align: right;\">\n",
       "      <th></th>\n",
       "      <th></th>\n",
       "      <th>karakter yas</th>\n",
       "    </tr>\n",
       "    <tr>\n",
       "      <th>karakterler</th>\n",
       "      <th>karakter ismi</th>\n",
       "      <th></th>\n",
       "    </tr>\n",
       "  </thead>\n",
       "  <tbody>\n",
       "    <tr>\n",
       "      <th rowspan=\"2\" valign=\"top\">Simpson</th>\n",
       "      <th>bart</th>\n",
       "      <td>20</td>\n",
       "    </tr>\n",
       "    <tr>\n",
       "      <th>homer</th>\n",
       "      <td>50</td>\n",
       "    </tr>\n",
       "    <tr>\n",
       "      <th rowspan=\"2\" valign=\"top\">South Park</th>\n",
       "      <th>cartman</th>\n",
       "      <td>9</td>\n",
       "    </tr>\n",
       "    <tr>\n",
       "      <th>kenny</th>\n",
       "      <td>10</td>\n",
       "    </tr>\n",
       "  </tbody>\n",
       "</table>\n",
       "</div>"
      ],
      "text/plain": [
       "                           karakter yas\n",
       "karakterler karakter ismi              \n",
       "Simpson     bart                     20\n",
       "            homer                    50\n",
       "South Park  cartman                   9\n",
       "            kenny                    10"
      ]
     },
     "execution_count": 202,
     "metadata": {},
     "output_type": "execute_result"
    }
   ],
   "source": [
    "karakterDF.pivot_table(values = \"karakter yas\", index = [\"karakterler\",\"karakter ismi\"])"
   ]
  },
  {
   "cell_type": "code",
   "execution_count": 204,
   "id": "dccb196d",
   "metadata": {},
   "outputs": [],
   "source": [
    "# aynı isimde iki kişi olsa, pivot yaşların ortalamasını alıp getirir. bu istenmez\n",
    "# aggfunc = np.sum ile toplayarak da getirtilebilir"
   ]
  },
  {
   "cell_type": "markdown",
   "id": "45efcb9a",
   "metadata": {},
   "source": [
    "# Excel ile çalışmak"
   ]
  },
  {
   "cell_type": "code",
   "execution_count": 205,
   "id": "a6056e3a",
   "metadata": {},
   "outputs": [],
   "source": [
    "#excel i oku>"
   ]
  },
  {
   "cell_type": "code",
   "execution_count": 209,
   "id": "52211741",
   "metadata": {},
   "outputs": [],
   "source": [
    "dataFramee = pd.read_excel(\"maas.xlsx\")"
   ]
  },
  {
   "cell_type": "code",
   "execution_count": 210,
   "id": "687338ab",
   "metadata": {},
   "outputs": [
    {
     "data": {
      "text/html": [
       "<div>\n",
       "<style scoped>\n",
       "    .dataframe tbody tr th:only-of-type {\n",
       "        vertical-align: middle;\n",
       "    }\n",
       "\n",
       "    .dataframe tbody tr th {\n",
       "        vertical-align: top;\n",
       "    }\n",
       "\n",
       "    .dataframe thead th {\n",
       "        text-align: right;\n",
       "    }\n",
       "</style>\n",
       "<table border=\"1\" class=\"dataframe\">\n",
       "  <thead>\n",
       "    <tr style=\"text-align: right;\">\n",
       "      <th></th>\n",
       "      <th>Unnamed: 0</th>\n",
       "      <th>Maas</th>\n",
       "      <th>Yas</th>\n",
       "      <th>Departman</th>\n",
       "    </tr>\n",
       "  </thead>\n",
       "  <tbody>\n",
       "    <tr>\n",
       "      <th>0</th>\n",
       "      <td>Aleyna</td>\n",
       "      <td>100</td>\n",
       "      <td>40.0</td>\n",
       "      <td>Yazılım</td>\n",
       "    </tr>\n",
       "    <tr>\n",
       "      <th>1</th>\n",
       "      <td>Can</td>\n",
       "      <td>150</td>\n",
       "      <td>50.0</td>\n",
       "      <td>Satış</td>\n",
       "    </tr>\n",
       "    <tr>\n",
       "      <th>2</th>\n",
       "      <td>Yiğit</td>\n",
       "      <td>200</td>\n",
       "      <td>30.0</td>\n",
       "      <td>NaN</td>\n",
       "    </tr>\n",
       "    <tr>\n",
       "      <th>3</th>\n",
       "      <td>Ayşe</td>\n",
       "      <td>50</td>\n",
       "      <td>10.0</td>\n",
       "      <td>Pazarlama</td>\n",
       "    </tr>\n",
       "    <tr>\n",
       "      <th>4</th>\n",
       "      <td>Mert</td>\n",
       "      <td>150</td>\n",
       "      <td>NaN</td>\n",
       "      <td>Finans</td>\n",
       "    </tr>\n",
       "    <tr>\n",
       "      <th>5</th>\n",
       "      <td>Kerem</td>\n",
       "      <td>200</td>\n",
       "      <td>25.0</td>\n",
       "      <td>Hukuk</td>\n",
       "    </tr>\n",
       "  </tbody>\n",
       "</table>\n",
       "</div>"
      ],
      "text/plain": [
       "  Unnamed: 0  Maas   Yas  Departman\n",
       "0     Aleyna   100  40.0    Yazılım\n",
       "1        Can   150  50.0      Satış\n",
       "2      Yiğit   200  30.0        NaN\n",
       "3       Ayşe    50  10.0  Pazarlama\n",
       "4       Mert   150   NaN     Finans\n",
       "5      Kerem   200  25.0      Hukuk"
      ]
     },
     "execution_count": 210,
     "metadata": {},
     "output_type": "execute_result"
    }
   ],
   "source": [
    "dataFramee"
   ]
  },
  {
   "cell_type": "code",
   "execution_count": 212,
   "id": "9534b50d",
   "metadata": {},
   "outputs": [],
   "source": [
    "doluDegerler = dataFramee.dropna()"
   ]
  },
  {
   "cell_type": "code",
   "execution_count": 213,
   "id": "0af0127c",
   "metadata": {},
   "outputs": [
    {
     "data": {
      "text/html": [
       "<div>\n",
       "<style scoped>\n",
       "    .dataframe tbody tr th:only-of-type {\n",
       "        vertical-align: middle;\n",
       "    }\n",
       "\n",
       "    .dataframe tbody tr th {\n",
       "        vertical-align: top;\n",
       "    }\n",
       "\n",
       "    .dataframe thead th {\n",
       "        text-align: right;\n",
       "    }\n",
       "</style>\n",
       "<table border=\"1\" class=\"dataframe\">\n",
       "  <thead>\n",
       "    <tr style=\"text-align: right;\">\n",
       "      <th></th>\n",
       "      <th>Unnamed: 0</th>\n",
       "      <th>Maas</th>\n",
       "      <th>Yas</th>\n",
       "      <th>Departman</th>\n",
       "    </tr>\n",
       "  </thead>\n",
       "  <tbody>\n",
       "    <tr>\n",
       "      <th>0</th>\n",
       "      <td>Aleyna</td>\n",
       "      <td>100</td>\n",
       "      <td>40.0</td>\n",
       "      <td>Yazılım</td>\n",
       "    </tr>\n",
       "    <tr>\n",
       "      <th>1</th>\n",
       "      <td>Can</td>\n",
       "      <td>150</td>\n",
       "      <td>50.0</td>\n",
       "      <td>Satış</td>\n",
       "    </tr>\n",
       "    <tr>\n",
       "      <th>3</th>\n",
       "      <td>Ayşe</td>\n",
       "      <td>50</td>\n",
       "      <td>10.0</td>\n",
       "      <td>Pazarlama</td>\n",
       "    </tr>\n",
       "    <tr>\n",
       "      <th>5</th>\n",
       "      <td>Kerem</td>\n",
       "      <td>200</td>\n",
       "      <td>25.0</td>\n",
       "      <td>Hukuk</td>\n",
       "    </tr>\n",
       "  </tbody>\n",
       "</table>\n",
       "</div>"
      ],
      "text/plain": [
       "  Unnamed: 0  Maas   Yas  Departman\n",
       "0     Aleyna   100  40.0    Yazılım\n",
       "1        Can   150  50.0      Satış\n",
       "3       Ayşe    50  10.0  Pazarlama\n",
       "5      Kerem   200  25.0      Hukuk"
      ]
     },
     "execution_count": 213,
     "metadata": {},
     "output_type": "execute_result"
    }
   ],
   "source": [
    "doluDegerler"
   ]
  },
  {
   "cell_type": "code",
   "execution_count": 214,
   "id": "2043291e",
   "metadata": {},
   "outputs": [
    {
     "data": {
      "text/html": [
       "<div>\n",
       "<style scoped>\n",
       "    .dataframe tbody tr th:only-of-type {\n",
       "        vertical-align: middle;\n",
       "    }\n",
       "\n",
       "    .dataframe tbody tr th {\n",
       "        vertical-align: top;\n",
       "    }\n",
       "\n",
       "    .dataframe thead th {\n",
       "        text-align: right;\n",
       "    }\n",
       "</style>\n",
       "<table border=\"1\" class=\"dataframe\">\n",
       "  <thead>\n",
       "    <tr style=\"text-align: right;\">\n",
       "      <th></th>\n",
       "      <th>Unnamed: 0</th>\n",
       "      <th>Maas</th>\n",
       "      <th>Yas</th>\n",
       "      <th>Departman</th>\n",
       "    </tr>\n",
       "  </thead>\n",
       "  <tbody>\n",
       "    <tr>\n",
       "      <th>0</th>\n",
       "      <td>Aleyna</td>\n",
       "      <td>100</td>\n",
       "      <td>40.0</td>\n",
       "      <td>Yazılım</td>\n",
       "    </tr>\n",
       "    <tr>\n",
       "      <th>1</th>\n",
       "      <td>Can</td>\n",
       "      <td>150</td>\n",
       "      <td>50.0</td>\n",
       "      <td>Satış</td>\n",
       "    </tr>\n",
       "    <tr>\n",
       "      <th>2</th>\n",
       "      <td>Yiğit</td>\n",
       "      <td>200</td>\n",
       "      <td>30.0</td>\n",
       "      <td>NaN</td>\n",
       "    </tr>\n",
       "    <tr>\n",
       "      <th>3</th>\n",
       "      <td>Ayşe</td>\n",
       "      <td>50</td>\n",
       "      <td>10.0</td>\n",
       "      <td>Pazarlama</td>\n",
       "    </tr>\n",
       "    <tr>\n",
       "      <th>4</th>\n",
       "      <td>Mert</td>\n",
       "      <td>150</td>\n",
       "      <td>NaN</td>\n",
       "      <td>Finans</td>\n",
       "    </tr>\n",
       "    <tr>\n",
       "      <th>5</th>\n",
       "      <td>Kerem</td>\n",
       "      <td>200</td>\n",
       "      <td>25.0</td>\n",
       "      <td>Hukuk</td>\n",
       "    </tr>\n",
       "  </tbody>\n",
       "</table>\n",
       "</div>"
      ],
      "text/plain": [
       "  Unnamed: 0  Maas   Yas  Departman\n",
       "0     Aleyna   100  40.0    Yazılım\n",
       "1        Can   150  50.0      Satış\n",
       "2      Yiğit   200  30.0        NaN\n",
       "3       Ayşe    50  10.0  Pazarlama\n",
       "4       Mert   150   NaN     Finans\n",
       "5      Kerem   200  25.0      Hukuk"
      ]
     },
     "execution_count": 214,
     "metadata": {},
     "output_type": "execute_result"
    }
   ],
   "source": [
    "dataFramee"
   ]
  },
  {
   "cell_type": "code",
   "execution_count": 215,
   "id": "741e1573",
   "metadata": {},
   "outputs": [],
   "source": [
    "# excel e yazmak için >"
   ]
  },
  {
   "cell_type": "code",
   "execution_count": 216,
   "id": "07e4976b",
   "metadata": {},
   "outputs": [],
   "source": [
    "doluDegerler.to_excel(\"yenimaas.xlsx\")"
   ]
  },
  {
   "cell_type": "code",
   "execution_count": 217,
   "id": "049972b0",
   "metadata": {},
   "outputs": [],
   "source": [
    "## cvs formatında ise read_cvs ya da to_cvs yapılması yeterlidir"
   ]
  },
  {
   "cell_type": "code",
   "execution_count": null,
   "id": "6b6c5f64",
   "metadata": {},
   "outputs": [],
   "source": []
  }
 ],
 "metadata": {
  "kernelspec": {
   "display_name": "Python 3 (ipykernel)",
   "language": "python",
   "name": "python3"
  },
  "language_info": {
   "codemirror_mode": {
    "name": "ipython",
    "version": 3
   },
   "file_extension": ".py",
   "mimetype": "text/x-python",
   "name": "python",
   "nbconvert_exporter": "python",
   "pygments_lexer": "ipython3",
   "version": "3.9.13"
  }
 },
 "nbformat": 4,
 "nbformat_minor": 5
}
